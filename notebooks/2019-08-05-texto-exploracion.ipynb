{
 "cells": [
  {
   "cell_type": "code",
   "execution_count": 2,
   "metadata": {},
   "outputs": [],
   "source": [
    "%load_ext sql"
   ]
  },
  {
   "cell_type": "code",
   "execution_count": 3,
   "metadata": {},
   "outputs": [
    {
     "name": "stdout",
     "output_type": "stream",
     "text": [
      "env: DATABASE_URL=mysql+mysqlconnector://root@localhost/ucursos\n"
     ]
    }
   ],
   "source": [
    "%env DATABASE_URL=mysql+mysqlconnector://root@localhost/ucursos"
   ]
  },
  {
   "cell_type": "code",
   "execution_count": 86,
   "metadata": {},
   "outputs": [],
   "source": [
    "from collections import defaultdict, Counter\n",
    "\n",
    "import numpy as np\n",
    "import pandas as pd\n",
    "\n",
    "from tqdm import tqdm_notebook as tqdm\n",
    "\n",
    "import spacy\n",
    "import pickle\n",
    "\n",
    "from unionfind import UnionFind"
   ]
  },
  {
   "cell_type": "code",
   "execution_count": 5,
   "metadata": {},
   "outputs": [],
   "source": [
    "nlp = spacy.load(\"es_core_news_sm\")"
   ]
  },
  {
   "cell_type": "code",
   "execution_count": 87,
   "metadata": {},
   "outputs": [],
   "source": [
    "import matplotlib.pyplot as plt\n",
    "import seaborn as sns\n",
    "sns.set(style=\"darkgrid\")\n",
    "plt.rcParams['figure.figsize'] = [15, 5]"
   ]
  },
  {
   "cell_type": "code",
   "execution_count": 92,
   "metadata": {},
   "outputs": [],
   "source": [
    "import statistics\n",
    "\n",
    "def summarize(l: list):\n",
    "    print(\"Size:\", len(l), sep=\"\\t\")\n",
    "    print(\"Min:\", min(l), sep=\"\\t\")\n",
    "    print(\"Median:\", statistics.median(l), sep=\"\\t\")\n",
    "    print(\"Max:\", max(l), sep=\"\\t\")\n",
    "    print(\"Avg:\", sum(l) / len(l), sep=\"\\t\")\n",
    "    print(\"Mode:\", statistics.mode(l), sep=\"\\t\")"
   ]
  },
  {
   "cell_type": "markdown",
   "metadata": {},
   "source": [
    "# Exploración básica"
   ]
  },
  {
   "cell_type": "code",
   "execution_count": 7,
   "metadata": {},
   "outputs": [
    {
     "name": "stdout",
     "output_type": "stream",
     "text": [
      "10 rows affected.\n"
     ]
    },
    {
     "data": {
      "text/html": [
       "<table>\n",
       "    <tr>\n",
       "        <th>MEN_CONTENIDO</th>\n",
       "    </tr>\n",
       "    <tr>\n",
       "        <td>Esta es una nueva herramienta que ha \r",
       "desarrollado la Escuela de Ingeniería y \r",
       "Ciencias cuyo propósito es facilitar la \r",
       "participación en temas de interés para \r",
       "nuestros alumnos, exalumnos, académicos \r",
       "y autoridades de nuestra Facultad.</td>\n",
       "    </tr>\n",
       "    <tr>\n",
       "        <td>Felicitaciones por esta iniciativa ,\r",
       "espero que todos sepamos darle un buen\r",
       "uso y sea un medio de apoyo a nuestras\r",
       "labores.</td>\n",
       "    </tr>\n",
       "    <tr>\n",
       "        <td>Esta es una nueva herramienta que ha \r",
       "desarrollado la Escuela de Ingeniería y \r",
       "Ciencias cuyo propósito es facilitar la \r",
       "participación en temas de interés para \r",
       "nuestros alumnos, exalumnos, académicos \r",
       "y autoridades de nuestra Facultad.\r",
       "</td>\n",
       "    </tr>\n",
       "    <tr>\n",
       "        <td>vaya me puse click sin querer en el mensage \r",
       "anterior.. pero lo q queria decir es q me parece \r",
       "una gran idea. sigan adelante :)\r",
       "</td>\n",
       "    </tr>\n",
       "    <tr>\n",
       "        <td>Felicitaciones por la iniciativa, \r",
       "espero que sepamos darle un buen uso a \r",
       "esto y que realmente la escuela sepa \r",
       "darle un buen uso tambián.\r",
       "\r",
       "Saludos</td>\n",
       "    </tr>\n",
       "    <tr>\n",
       "        <td>Me parece muy bien que hayan hecho un \r",
       "foro que imagino que es muy seguro, \r",
       "aunque es una pena que no todo el mundo \r",
       "se haya acostumbrado (o no les hayan \r",
       "enseñado) a usar las news, que deberian \r",
       "ser el canal de discusion por defecto.\r",
       "\r",
       "Para empezar, escribo esto desde mi \r",
       "casa porque como los computinomanos se \r",
       "habran dado cuenta, las salas de \r",
       "computadores están inhabilitadas hasta \r",
       "nuevo aviso. Con los pocos dias \r",
       "disponibles para el modifica, me parece \r",
       "bastante serio, porque no toda la gente \r",
       "tiene conexión en su casa, y los \r",
       "computadores del zócalo no dan abasto.</td>\n",
       "    </tr>\n",
       "    <tr>\n",
       "        <td>...na que decir..toda la razon...</td>\n",
       "    </tr>\n",
       "    <tr>\n",
       "        <td>voy directo al grano... Considero que el \r",
       "tiempo que se nos da para almorzar en \r",
       "esta escuela es insuficiente.\r",
       "Considerando que este tiempo se comparte \r",
       "con:\r",
       "1. profesores que no terminan sus clases \r",
       "a tiempo.\r",
       "2. traslado al lugar donde se va a \r",
       "almorzar.\r",
       "3. espera en el mismo restaurant.\r",
       "4. buscar un baño para aseo bucal.\r",
       "5. retorno a las salas de clases (a \r",
       "veces, el trayecto es largo).\r",
       "6. un MÍNIMO DE TIEMPO PARA REPOSAR.\r",
       "Es hora que nos acerquemos a nuestro \r",
       "centro de estudiantes, para exigir \r",
       "cambios en los horarios de colación. Si \r",
       "nos unimos por esta causa, lograremos \r",
       "los cambios que necesitamos los alumnos.\r",
       "Acércate al CEI con tus quejas.</td>\n",
       "    </tr>\n",
       "    <tr>\n",
       "        <td>Propongo desde ya que se cree otro foro \r",
       "con el tema &quot;Panoramas en la Escuela&quot;\r",
       "\r",
       "Cuyo unico fin sea publicar conciertos, \r",
       "exposiciones, actividades, \r",
       "presentaciones...etc. \r",
       "\r",
       "Espero les guste la idea!</td>\n",
       "    </tr>\n",
       "    <tr>\n",
       "        <td>mas que aumentar el tiempo para almorzar, creo \r",
       "que la crisis alimenticia de la escuela no pasa \r",
       "por eso. \r",
       "Creo que el problema radica en la POCA CALIDAD de \r",
       "alimentaciòn que los buchefianos estamos \r",
       "obteniendo. Quizás este año las cosas cambien, \r",
       "pero muy bien saben que la comida del casino es \r",
       "muy mala, que durante el año anterior la cafeta \r",
       "del CEI (mal ventilada y muy cochina) estuvo \r",
       "cerrada, que la muchos estudiantes derivaron a \r",
       "comer simples sandwich comprados en la calle o en \r",
       "algunos de los kioskos y locales dentro y en las \r",
       "cercanías de la facultad. \r",
       "Yo creo que el tema no solo pasa por el Centro de \r",
       "Estudiantes, si no también por las autoridades de \r",
       "la escuela, las cuales no solo deben velar por la \r",
       "formación academica de los Estudiantes, si no \r",
       "tambien por aquella cosa mas importante como es \r",
       "el bienestar de ellos.</td>\n",
       "    </tr>\n",
       "</table>"
      ],
      "text/plain": [
       "[('Esta es una nueva herramienta que ha \\rdesarrollado la Escuela de Ingeniería y \\rCiencias cuyo propósito es facilitar la \\rparticipación en temas de interés para \\rnuestros alumnos, exalumnos, académicos \\ry autoridades de nuestra Facultad.',),\n",
       " ('Felicitaciones por esta iniciativa ,\\respero que todos sepamos darle un buen\\ruso y sea un medio de apoyo a nuestras\\rlabores.',),\n",
       " ('Esta es una nueva herramienta que ha \\rdesarrollado la Escuela de Ingeniería y \\rCiencias cuyo propósito es facilitar la \\rparticipación en temas de interés para \\rnuestros alumnos, exalumnos, académicos \\ry autoridades de nuestra Facultad.\\r',),\n",
       " ('vaya me puse click sin querer en el mensage \\ranterior.. pero lo q queria decir es q me parece \\runa gran idea. sigan adelante :)\\r',),\n",
       " ('Felicitaciones por la iniciativa, \\respero que sepamos darle un buen uso a \\resto y que realmente la escuela sepa \\rdarle un buen uso tambián.\\r\\rSaludos',),\n",
       " ('Me parece muy bien que hayan hecho un \\rforo que imagino que es muy seguro, \\raunque es una pena que no todo el mundo \\rse haya acostumbrado (o no le ... (291 characters truncated) ... les para el modifica, me parece \\rbastante serio, porque no toda la gente \\rtiene conexión en su casa, y los \\rcomputadores del zócalo no dan abasto.',),\n",
       " ('...na que decir..toda la razon...',),\n",
       " ('voy directo al grano... Considero que el \\rtiempo que se nos da para almorzar en \\resta escuela es insuficiente.\\rConsiderando que este tiempo se com ... (376 characters truncated) ... s en los horarios de colación. Si \\rnos unimos por esta causa, lograremos \\rlos cambios que necesitamos los alumnos.\\rAcércate al CEI con tus quejas.',),\n",
       " ('Propongo desde ya que se cree otro foro \\rcon el tema \"Panoramas en la Escuela\"\\r\\rCuyo unico fin sea publicar conciertos, \\rexposiciones, actividades, \\rpresentaciones...etc. \\r\\rEspero les guste la idea!',),\n",
       " ('mas que aumentar el tiempo para almorzar, creo \\rque la crisis alimenticia de la escuela no pasa \\rpor eso. \\rCreo que el problema radica en la POCA  ... (559 characters truncated) ... no solo deben velar por la \\rformación academica de los Estudiantes, si no \\rtambien por aquella cosa mas importante como es \\rel bienestar de ellos.',)]"
      ]
     },
     "execution_count": 7,
     "metadata": {},
     "output_type": "execute_result"
    }
   ],
   "source": [
    "%%sql\n",
    "\n",
    "SELECT MEN_CONTENIDO\n",
    "FROM MENSAJES_INGENIERIA\n",
    "LIMIT 10"
   ]
  },
  {
   "cell_type": "code",
   "execution_count": 8,
   "metadata": {},
   "outputs": [
    {
     "name": "stdout",
     "output_type": "stream",
     "text": [
      " * mysql+mysqlconnector://root@localhost/ucursos\n",
      "10 rows affected.\n"
     ]
    },
    {
     "data": {
      "text/html": [
       "<table>\n",
       "    <tr>\n",
       "        <th>MEN_TITULO</th>\n",
       "    </tr>\n",
       "    <tr>\n",
       "        <td>Bienvenidos al Foro de Ingeniería</td>\n",
       "    </tr>\n",
       "    <tr>\n",
       "        <td>Felicitaciones</td>\n",
       "    </tr>\n",
       "    <tr>\n",
       "        <td>Re: Bienvenidos al Foro de Ingeniería</td>\n",
       "    </tr>\n",
       "    <tr>\n",
       "        <td>Re: Re: Bienvenidos al Foro de Ingeniería</td>\n",
       "    </tr>\n",
       "    <tr>\n",
       "        <td>Felicitaciones</td>\n",
       "    </tr>\n",
       "    <tr>\n",
       "        <td>buena idea Y para empezar</td>\n",
       "    </tr>\n",
       "    <tr>\n",
       "        <td>Re: buena idea Y para empezar</td>\n",
       "    </tr>\n",
       "    <tr>\n",
       "        <td>más tiempo para almorzar</td>\n",
       "    </tr>\n",
       "    <tr>\n",
       "        <td>propongo nuevo foro (tema aparte)</td>\n",
       "    </tr>\n",
       "    <tr>\n",
       "        <td>Re: más tiempo para almorzar</td>\n",
       "    </tr>\n",
       "</table>"
      ],
      "text/plain": [
       "[('Bienvenidos al Foro de Ingeniería',),\n",
       " ('Felicitaciones',),\n",
       " ('Re: Bienvenidos al Foro de Ingeniería',),\n",
       " ('Re: Re: Bienvenidos al Foro de Ingeniería',),\n",
       " ('Felicitaciones',),\n",
       " ('buena idea Y para empezar',),\n",
       " ('Re: buena idea Y para empezar',),\n",
       " ('más tiempo para almorzar',),\n",
       " ('propongo nuevo foro (tema aparte)',),\n",
       " ('Re: más tiempo para almorzar',)]"
      ]
     },
     "execution_count": 8,
     "metadata": {},
     "output_type": "execute_result"
    }
   ],
   "source": [
    "%%sql\n",
    "\n",
    "SELECT MEN_TITULO\n",
    "FROM MENSAJES_INGENIERIA\n",
    "LIMIT 10"
   ]
  },
  {
   "cell_type": "code",
   "execution_count": 9,
   "metadata": {},
   "outputs": [
    {
     "name": "stdout",
     "output_type": "stream",
     "text": [
      " * mysql+mysqlconnector://root@localhost/ucursos\n",
      "1376786 rows affected.\n",
      "Returning data to local variable textos\n"
     ]
    }
   ],
   "source": [
    "%%sql textos <<\n",
    "\n",
    "SELECT MEN_ID, MEN_MEN_ID, MEN_TEM_ID, MEN_FECHA_CREACION, MEN_CONTENIDO\n",
    "FROM MENSAJES_INGENIERIA"
   ]
  },
  {
   "cell_type": "code",
   "execution_count": 10,
   "metadata": {},
   "outputs": [],
   "source": [
    "textos = textos.DataFrame()"
   ]
  },
  {
   "cell_type": "markdown",
   "metadata": {},
   "source": [
    "## Largo de mensajes"
   ]
  },
  {
   "cell_type": "code",
   "execution_count": 112,
   "metadata": {},
   "outputs": [
    {
     "data": {
      "application/vnd.jupyter.widget-view+json": {
       "model_id": "fc2482b6dfe24fb99b9dfb6a52a899f9",
       "version_major": 2,
       "version_minor": 0
      },
      "text/plain": [
       "HBox(children=(IntProgress(value=0, max=1376786), HTML(value='')))"
      ]
     },
     "metadata": {},
     "output_type": "display_data"
    }
   ],
   "source": [
    "largos = []\n",
    "vocab = Counter()\n",
    "for msg in tqdm(textos['MEN_CONTENIDO']):\n",
    "    largos.append(len(msg))\n",
    "    tokens = msg.lower().split()\n",
    "    vocab.update(tokens)        "
   ]
  },
  {
   "cell_type": "code",
   "execution_count": 115,
   "metadata": {},
   "outputs": [
    {
     "data": {
      "image/png": "[encoded data removed]",
      "text/plain": [
       "<Figure size 1080x360 with 1 Axes>"
      ]
     },
     "metadata": {},
     "output_type": "display_data"
    }
   ],
   "source": [
    "ax = sns.distplot(np.array(largos))"
   ]
  },
  {
   "cell_type": "code",
   "execution_count": 119,
   "metadata": {},
   "outputs": [
    {
     "name": "stdout",
     "output_type": "stream",
     "text": [
      "tamaño del vocabulario: 1245261\n"
     ]
    }
   ],
   "source": [
    "print(\"tamaño del vocabulario:\", len(vocab))"
   ]
  },
  {
   "cell_type": "code",
   "execution_count": 129,
   "metadata": {},
   "outputs": [
    {
     "data": {
      "image/png": "[encoded data removed]",
      "text/plain": [
       "<Figure size 1080x360 with 1 Axes>"
      ]
     },
     "metadata": {},
     "output_type": "display_data"
    }
   ],
   "source": [
    "vocab_top20 = vocab.most_common(30)\n",
    "tokens, freq = zip(*vocab_top20)\n",
    "\n",
    "bar = plt.bar(x=tokens, height=freq)"
   ]
  },
  {
   "cell_type": "markdown",
   "metadata": {},
   "source": [
    "# Usuarios y threads"
   ]
  },
  {
   "cell_type": "code",
   "execution_count": 138,
   "metadata": {},
   "outputs": [
    {
     "name": "stdout",
     "output_type": "stream",
     "text": [
      " * mysql+mysqlconnector://root@localhost/ucursos\n",
      "1376437 rows affected.\n",
      "Returning data to local variable df\n"
     ]
    }
   ],
   "source": [
    "%%sql df <<\n",
    "SELECT MEN_RUT, MEN_MEN_ID, MEN_ID, MEN_FECHA_CREACION\n",
    "FROM MENSAJES_INGENIERIA\n",
    "WHERE MEN_CENSURADO = 0"
   ]
  },
  {
   "cell_type": "code",
   "execution_count": 139,
   "metadata": {},
   "outputs": [],
   "source": [
    "df = df.DataFrame()"
   ]
  },
  {
   "cell_type": "code",
   "execution_count": 140,
   "metadata": {},
   "outputs": [
    {
     "data": {
      "text/html": [
       "<div>\n",
       "<style scoped>\n",
       "    .dataframe tbody tr th:only-of-type {\n",
       "        vertical-align: middle;\n",
       "    }\n",
       "\n",
       "    .dataframe tbody tr th {\n",
       "        vertical-align: top;\n",
       "    }\n",
       "\n",
       "    .dataframe thead th {\n",
       "        text-align: right;\n",
       "    }\n",
       "</style>\n",
       "<table border=\"1\" class=\"dataframe\">\n",
       "  <thead>\n",
       "    <tr style=\"text-align: right;\">\n",
       "      <th></th>\n",
       "      <th>MEN_RUT</th>\n",
       "      <th>MEN_MEN_ID</th>\n",
       "      <th>MEN_ID</th>\n",
       "      <th>MEN_FECHA_CREACION</th>\n",
       "    </tr>\n",
       "  </thead>\n",
       "  <tbody>\n",
       "    <tr>\n",
       "      <th>0</th>\n",
       "      <td>9076922</td>\n",
       "      <td>0</td>\n",
       "      <td>11635</td>\n",
       "      <td>2002-03-11 12:16:44</td>\n",
       "    </tr>\n",
       "    <tr>\n",
       "      <th>1</th>\n",
       "      <td>11843791</td>\n",
       "      <td>0</td>\n",
       "      <td>11636</td>\n",
       "      <td>2002-03-11 14:29:30</td>\n",
       "    </tr>\n",
       "    <tr>\n",
       "      <th>2</th>\n",
       "      <td>15340775</td>\n",
       "      <td>11635</td>\n",
       "      <td>11637</td>\n",
       "      <td>2002-03-11 19:20:23</td>\n",
       "    </tr>\n",
       "    <tr>\n",
       "      <th>3</th>\n",
       "      <td>15340775</td>\n",
       "      <td>11637</td>\n",
       "      <td>11638</td>\n",
       "      <td>2002-03-11 19:21:33</td>\n",
       "    </tr>\n",
       "    <tr>\n",
       "      <th>4</th>\n",
       "      <td>13451009</td>\n",
       "      <td>0</td>\n",
       "      <td>11639</td>\n",
       "      <td>2002-03-11 20:20:12</td>\n",
       "    </tr>\n",
       "  </tbody>\n",
       "</table>\n",
       "</div>"
      ],
      "text/plain": [
       "    MEN_RUT  MEN_MEN_ID  MEN_ID  MEN_FECHA_CREACION\n",
       "0   9076922           0   11635 2002-03-11 12:16:44\n",
       "1  11843791           0   11636 2002-03-11 14:29:30\n",
       "2  15340775       11635   11637 2002-03-11 19:20:23\n",
       "3  15340775       11637   11638 2002-03-11 19:21:33\n",
       "4  13451009           0   11639 2002-03-11 20:20:12"
      ]
     },
     "execution_count": 140,
     "metadata": {},
     "output_type": "execute_result"
    }
   ],
   "source": [
    "df.head()"
   ]
  },
  {
   "cell_type": "code",
   "execution_count": 180,
   "metadata": {},
   "outputs": [
    {
     "data": {
      "text/plain": [
       "1376437"
      ]
     },
     "execution_count": 180,
     "metadata": {},
     "output_type": "execute_result"
    }
   ],
   "source": [
    "len(df.index)"
   ]
  },
  {
   "cell_type": "code",
   "execution_count": 181,
   "metadata": {},
   "outputs": [],
   "source": []
  },
  {
   "cell_type": "code",
   "execution_count": 192,
   "metadata": {},
   "outputs": [],
   "source": [
    "uf = UnionFind()\n",
    "thread_ids = set()\n",
    "\n",
    "for thread_id in df.loc[df.MEN_MEN_ID == 0][\"MEN_ID\"]:\n",
    "    #uf.add(thread_id)\n",
    "    thread_ids.add(thread_id)\n",
    "    \n",
    "#for msg_id in df.loc[df.MEN_MEN_ID != 0][\"MEN_ID\"]:\n",
    "#    uf.add(msg_id)"
   ]
  },
  {
   "cell_type": "code",
   "execution_count": 193,
   "metadata": {},
   "outputs": [
    {
     "data": {
      "application/vnd.jupyter.widget-view+json": {
       "model_id": "ed294d2de85247bb87d92dcf65b1f859",
       "version_major": 2,
       "version_minor": 0
      },
      "text/plain": [
       "HBox(children=(IntProgress(value=0, max=1280016), HTML(value='')))"
      ]
     },
     "metadata": {},
     "output_type": "display_data"
    }
   ],
   "source": [
    "for _, (men_id, parent_id) in tqdm(df.loc[df.MEN_MEN_ID != 0][[\"MEN_ID\", \"MEN_MEN_ID\"]].iterrows(), \n",
    "                                   total=len(df.loc[df.MEN_MEN_ID != 0].index)):\n",
    "    if parent_id not in thread_ids:\n",
    "        continue\n",
    "    uf.union(men_id, parent_id)"
   ]
  },
  {
   "cell_type": "code",
   "execution_count": 194,
   "metadata": {},
   "outputs": [],
   "source": [
    "temas = list(uf.components())"
   ]
  },
  {
   "cell_type": "code",
   "execution_count": 187,
   "metadata": {},
   "outputs": [],
   "source": [
    "with open('../data/foros/temas.list.pkl', 'wb') as f:\n",
    "    pickle.dump(temas, f)"
   ]
  },
  {
   "cell_type": "code",
   "execution_count": 195,
   "metadata": {},
   "outputs": [
    {
     "data": {
      "text/plain": [
       "81015"
      ]
     },
     "execution_count": 195,
     "metadata": {},
     "output_type": "execute_result"
    }
   ],
   "source": [
    "len(temas)"
   ]
  },
  {
   "cell_type": "code",
   "execution_count": 147,
   "metadata": {},
   "outputs": [
    {
     "data": {
      "application/vnd.jupyter.widget-view+json": {
       "model_id": "e8172e2652ec484db6143271cdaa5a43",
       "version_major": 2,
       "version_minor": 0
      },
      "text/plain": [
       "HBox(children=(IntProgress(value=0, max=1376437), HTML(value='')))"
      ]
     },
     "metadata": {},
     "output_type": "display_data"
    }
   ],
   "source": [
    "msg_rut = dict()\n",
    "\n",
    "for _, (rut, __, men_id, ___) in tqdm(df.iterrows(), total=len(df.index)):\n",
    "    msg_rut[men_id] = rut"
   ]
  },
  {
   "cell_type": "code",
   "execution_count": 148,
   "metadata": {},
   "outputs": [],
   "source": [
    "with open('../data/foros/msg_rut.dict.pkl', 'wb') as f:\n",
    "    pickle.dump(msg_rut, f)"
   ]
  },
  {
   "cell_type": "code",
   "execution_count": 157,
   "metadata": {},
   "outputs": [
    {
     "data": {
      "application/vnd.jupyter.widget-view+json": {
       "model_id": "e687e695069e4d5e88373a5458fc60c0",
       "version_major": 2,
       "version_minor": 0
      },
      "text/plain": [
       "HBox(children=(IntProgress(value=0, max=96421), HTML(value='')))"
      ]
     },
     "metadata": {},
     "output_type": "display_data"
    }
   ],
   "source": [
    "ruts_temas = list()\n",
    "\n",
    "for tema in tqdm(temas):\n",
    "    ruts = set()\n",
    "    for msg_id in tema:\n",
    "        #rut = df.loc[df.MEN_ID == msg_id].iloc[0]['MEN_RUT']\n",
    "        rut = msg_rut[msg_id]\n",
    "        ruts.add(rut)\n",
    "    ruts_temas.append(ruts)"
   ]
  },
  {
   "cell_type": "code",
   "execution_count": 176,
   "metadata": {},
   "outputs": [
    {
     "name": "stdout",
     "output_type": "stream",
     "text": [
      "{11635, 11637}\n"
     ]
    }
   ],
   "source": [
    "for tema in temas:\n",
    "    if 11635 in tema:\n",
    "        print(tema)"
   ]
  },
  {
   "cell_type": "markdown",
   "metadata": {},
   "source": [
    "## Cantidad de personas participando en un tema"
   ]
  },
  {
   "cell_type": "code",
   "execution_count": 196,
   "metadata": {},
   "outputs": [],
   "source": [
    "uniq_personas_por_tema = [len(tema) for tema in ruts_temas]\n",
    "mensajes_por_tema = [len(tema) for tema in temas]"
   ]
  },
  {
   "cell_type": "code",
   "execution_count": 161,
   "metadata": {},
   "outputs": [
    {
     "data": {
      "text/plain": [
       "[Text(0, 0.5, 'cantidad de temas'),\n",
       " Text(0.5, 0, 'usuarios distintos participando en el tema')]"
      ]
     },
     "execution_count": 161,
     "metadata": {},
     "output_type": "execute_result"
    },
    {
     "data": {
      "image/png": "[encoded data removed]",
      "text/plain": [
       "<Figure size 1080x360 with 1 Axes>"
      ]
     },
     "metadata": {},
     "output_type": "display_data"
    }
   ],
   "source": [
    "ax = sns.distplot(uniq_personas_por_tema, kde=False)\n",
    "ax.set(xlabel=\"usuarios distintos participando en el tema\", ylabel=\"cantidad de temas\")"
   ]
  },
  {
   "cell_type": "code",
   "execution_count": 162,
   "metadata": {},
   "outputs": [
    {
     "name": "stdout",
     "output_type": "stream",
     "text": [
      "Size:\t96421\n",
      "Min:\t1\n",
      "Median:\t3\n",
      "Max:\t98\n",
      "Avg:\t4.090633783097044\n",
      "Mode:\t2\n"
     ]
    }
   ],
   "source": [
    "summarize(uniq_personas_por_tema)"
   ]
  },
  {
   "cell_type": "code",
   "execution_count": 164,
   "metadata": {},
   "outputs": [
    {
     "data": {
      "text/plain": [
       "[Text(0, 0.5, 'cantidad de temas'), Text(0.5, 0, 'cantidad de mensajes')]"
      ]
     },
     "execution_count": 164,
     "metadata": {},
     "output_type": "execute_result"
    },
    {
     "data": {
      "image/png": "[encoded data removed]",
      "text/plain": [
       "<Figure size 1080x360 with 1 Axes>"
      ]
     },
     "metadata": {},
     "output_type": "display_data"
    }
   ],
   "source": [
    "ax = sns.distplot(mensajes_por_tema, kde=False)\n",
    "ax.set(xlabel=\"cantidad de mensajes\", ylabel=\"cantidad de temas\")"
   ]
  },
  {
   "cell_type": "code",
   "execution_count": 197,
   "metadata": {},
   "outputs": [
    {
     "name": "stdout",
     "output_type": "stream",
     "text": [
      "Size:\t81015\n",
      "Min:\t2\n",
      "Median:\t4\n",
      "Max:\t98\n",
      "Avg:\t5.315781028204653\n",
      "Mode:\t2\n"
     ]
    }
   ],
   "source": [
    "summarize(mensajes_por_tema)"
   ]
  },
  {
   "cell_type": "code",
   "execution_count": 170,
   "metadata": {},
   "outputs": [
    {
     "name": "stdout",
     "output_type": "stream",
     "text": [
      "{2152961, 2152963, 2152969, 2152971, 2152973, 2152977, 2152979, 2152981, 2152983, 2152993, 2153005, 2153007, 2153011, 2153013, 2153017, 2153019, 2153021, 2153023, 2153027, 2153029, 2153035, 2153037, 2153043, 2153049, 2153051, 2153053, 2153055, 2153057, 2153067, 2153069, 2153073, 2153075, 2153079, 2153081, 2153083, 2153085, 2153087, 2153093, 2153097, 2153099, 2153101, 2153103, 2153105, 2153107, 2153125, 2153145, 2153163, 2153165, 2153169, 2153173, 2153193, 2153197, 2153201, 2153205, 2153207, 2153229, 2153231, 2152815, 2152823, 2152837, 2152839, 2152841, 2152843, 2152847, 2152853, 2152857, 2152859, 2152861, 2152863, 2152867, 2152869, 2152873, 2152883, 2152885, 2152889, 2152893, 2152897, 2152901, 2152903, 2152909, 2152911, 2152913, 2152915, 2152919, 2152921, 2152923, 2152925, 2152927, 2152929, 2152933, 2152935, 2152937, 2152941, 2152947, 2152949, 2152951, 2152955, 2152957}\n",
      "{2187779, 2187783, 2187791, 2187795, 2187447, 2187455, 2187461, 2187463, 2187465, 2187467, 2187469, 2187471, 2187477, 2187479, 2187483, 2187485, 2187487, 2187489, 2187493, 2187495, 2187497, 2187499, 2187503, 2187505, 2187507, 2187509, 2187513, 2187523, 2187525, 2187531, 2187533, 2187537, 2187539, 2187543, 2187545, 2187547, 2187549, 2187555, 2187557, 2187559, 2187565, 2187567, 2187569, 2187573, 2187575, 2187579, 2187585, 2187589, 2187591, 2187595, 2187599, 2187603, 2187609, 2187617, 2187619, 2187621, 2187623, 2187625, 2187627, 2187631, 2187633, 2187635, 2187639, 2187645, 2187647, 2187651, 2187653, 2187657, 2187659, 2187665, 2187669, 2187671, 2187675, 2187683, 2187685, 2187687, 2187689, 2187697, 2187699, 2187703, 2187705, 2187707, 2187713, 2187717, 2187719, 2187727, 2187729, 2187733, 2187737, 2187739, 2187743, 2187749, 2187753, 2187757, 2187761, 2187769, 2187771, 2187775}\n"
     ]
    }
   ],
   "source": [
    "for tema in temas:\n",
    "    if len(tema) == 98:\n",
    "        print(tema)"
   ]
  },
  {
   "cell_type": "code",
   "execution_count": null,
   "metadata": {},
   "outputs": [],
   "source": []
  }
 ],
 "metadata": {
  "kernelspec": {
   "display_name": "Python 3",
   "language": "python",
   "name": "python3"
  },
  "language_info": {
   "codemirror_mode": {
    "name": "ipython",
    "version": 3
   },
   "file_extension": ".py",
   "mimetype": "text/x-python",
   "name": "python",
   "nbconvert_exporter": "python",
   "pygments_lexer": "ipython3",
   "version": "3.7.3"
  }
 },
 "nbformat": 4,
 "nbformat_minor": 2
}
