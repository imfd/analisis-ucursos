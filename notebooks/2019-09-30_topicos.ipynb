{
 "cells": [
  {
   "cell_type": "code",
   "execution_count": 2,
   "metadata": {},
   "outputs": [
    {
     "name": "stdout",
     "output_type": "stream",
     "text": [
      "env: DATABASE_URL=mysql+mysqlconnector://root@localhost/ucursos\n"
     ]
    }
   ],
   "source": [
    "%load_ext sql\n",
    "%env DATABASE_URL=mysql+mysqlconnector://root@localhost/ucursos"
   ]
  },
  {
   "cell_type": "code",
   "execution_count": 3,
   "metadata": {},
   "outputs": [
    {
     "name": "stdout",
     "output_type": "stream",
     "text": [
      "96421 rows affected.\n",
      "Returning data to local variable temas\n"
     ]
    }
   ],
   "source": [
    "%%sql temas << \n",
    "select * from temas"
   ]
  },
  {
   "cell_type": "code",
   "execution_count": 30,
   "metadata": {},
   "outputs": [],
   "source": [
    "temas_df = temas.DataFrame().set_index(\"raiz\")"
   ]
  },
  {
   "cell_type": "code",
   "execution_count": 31,
   "metadata": {},
   "outputs": [
    {
     "data": {
      "text/html": [
       "<div>\n",
       "<style scoped>\n",
       "    .dataframe tbody tr th:only-of-type {\n",
       "        vertical-align: middle;\n",
       "    }\n",
       "\n",
       "    .dataframe tbody tr th {\n",
       "        vertical-align: top;\n",
       "    }\n",
       "\n",
       "    .dataframe thead th {\n",
       "        text-align: right;\n",
       "    }\n",
       "</style>\n",
       "<table border=\"1\" class=\"dataframe\">\n",
       "  <thead>\n",
       "    <tr style=\"text-align: right;\">\n",
       "      <th></th>\n",
       "      <th>titulo</th>\n",
       "      <th>fecha_creacion</th>\n",
       "      <th>n_mensajes</th>\n",
       "      <th>usuarios_unicos</th>\n",
       "      <th>mensajes_hombres</th>\n",
       "      <th>mensajes_mujeres</th>\n",
       "      <th>hombres_uniq</th>\n",
       "      <th>mujeres_uniq</th>\n",
       "    </tr>\n",
       "    <tr>\n",
       "      <th>raiz</th>\n",
       "      <th></th>\n",
       "      <th></th>\n",
       "      <th></th>\n",
       "      <th></th>\n",
       "      <th></th>\n",
       "      <th></th>\n",
       "      <th></th>\n",
       "      <th></th>\n",
       "    </tr>\n",
       "  </thead>\n",
       "  <tbody>\n",
       "    <tr>\n",
       "      <th>1533080</th>\n",
       "      <td>Perdiste tú pase y no quieres/puedes ir al ban...</td>\n",
       "      <td>2013-08-22 11:48:55</td>\n",
       "      <td>2</td>\n",
       "      <td>2</td>\n",
       "      <td>2</td>\n",
       "      <td>0</td>\n",
       "      <td>2</td>\n",
       "      <td>0.0</td>\n",
       "    </tr>\n",
       "    <tr>\n",
       "      <th>799524</th>\n",
       "      <td>nada</td>\n",
       "      <td>2011-07-08 01:42:07</td>\n",
       "      <td>4</td>\n",
       "      <td>3</td>\n",
       "      <td>4</td>\n",
       "      <td>0</td>\n",
       "      <td>3</td>\n",
       "      <td>0.0</td>\n",
       "    </tr>\n",
       "    <tr>\n",
       "      <th>1150511</th>\n",
       "      <td>THE COMPLETE GUIDE TO THE TOEFL TEST - IBT EDI...</td>\n",
       "      <td>2012-04-16 12:25:36</td>\n",
       "      <td>1</td>\n",
       "      <td>1</td>\n",
       "      <td>1</td>\n",
       "      <td>0</td>\n",
       "      <td>1</td>\n",
       "      <td>0.0</td>\n",
       "    </tr>\n",
       "    <tr>\n",
       "      <th>73759</th>\n",
       "      <td>INVITACION SALIDA MASIVA DE MONTAÑA</td>\n",
       "      <td>2008-09-22 15:56:40</td>\n",
       "      <td>15</td>\n",
       "      <td>11</td>\n",
       "      <td>13</td>\n",
       "      <td>2</td>\n",
       "      <td>9</td>\n",
       "      <td>2.0</td>\n",
       "    </tr>\n",
       "    <tr>\n",
       "      <th>2226530</th>\n",
       "      <td>Resultados Votación lunes 13 de mayo</td>\n",
       "      <td>2019-05-13 22:19:37</td>\n",
       "      <td>45</td>\n",
       "      <td>39</td>\n",
       "      <td>41</td>\n",
       "      <td>4</td>\n",
       "      <td>35</td>\n",
       "      <td>4.0</td>\n",
       "    </tr>\n",
       "  </tbody>\n",
       "</table>\n",
       "</div>"
      ],
      "text/plain": [
       "                                                    titulo  \\\n",
       "raiz                                                         \n",
       "1533080  Perdiste tú pase y no quieres/puedes ir al ban...   \n",
       "799524                                                nada   \n",
       "1150511  THE COMPLETE GUIDE TO THE TOEFL TEST - IBT EDI...   \n",
       "73759                  INVITACION SALIDA MASIVA DE MONTAÑA   \n",
       "2226530               Resultados Votación lunes 13 de mayo   \n",
       "\n",
       "             fecha_creacion  n_mensajes  usuarios_unicos  mensajes_hombres  \\\n",
       "raiz                                                                         \n",
       "1533080 2013-08-22 11:48:55           2                2                 2   \n",
       "799524  2011-07-08 01:42:07           4                3                 4   \n",
       "1150511 2012-04-16 12:25:36           1                1                 1   \n",
       "73759   2008-09-22 15:56:40          15               11                13   \n",
       "2226530 2019-05-13 22:19:37          45               39                41   \n",
       "\n",
       "         mensajes_mujeres  hombres_uniq  mujeres_uniq  \n",
       "raiz                                                   \n",
       "1533080                 0             2           0.0  \n",
       "799524                  0             3           0.0  \n",
       "1150511                 0             1           0.0  \n",
       "73759                   2             9           2.0  \n",
       "2226530                 4            35           4.0  "
      ]
     },
     "execution_count": 31,
     "metadata": {},
     "output_type": "execute_result"
    }
   ],
   "source": [
    "temas_df.sample(n=5)"
   ]
  },
  {
   "cell_type": "code",
   "execution_count": 12,
   "metadata": {},
   "outputs": [
    {
     "name": "stdout",
     "output_type": "stream",
     "text": [
      " * mysql+mysqlconnector://root@localhost/ucursos\n",
      "1376437 rows affected.\n",
      "Returning data to local variable mensajes\n"
     ]
    }
   ],
   "source": [
    "%%sql mensajes <<\n",
    "select \n",
    "    men_id as id_mensaje, \n",
    "    men_rut as autor,\n",
    "    men_contenido as contenido,\n",
    "    men_fecha_creacion as fecha_creacion\n",
    "from mensajes_ingenieria\n",
    "where men_censurado = 0;"
   ]
  },
  {
   "cell_type": "code",
   "execution_count": 27,
   "metadata": {},
   "outputs": [],
   "source": [
    "mensajes_df = mensajes.DataFrame().set_index(\"id_mensaje\")"
   ]
  },
  {
   "cell_type": "code",
   "execution_count": 28,
   "metadata": {},
   "outputs": [
    {
     "data": {
      "text/html": [
       "<div>\n",
       "<style scoped>\n",
       "    .dataframe tbody tr th:only-of-type {\n",
       "        vertical-align: middle;\n",
       "    }\n",
       "\n",
       "    .dataframe tbody tr th {\n",
       "        vertical-align: top;\n",
       "    }\n",
       "\n",
       "    .dataframe thead th {\n",
       "        text-align: right;\n",
       "    }\n",
       "</style>\n",
       "<table border=\"1\" class=\"dataframe\">\n",
       "  <thead>\n",
       "    <tr style=\"text-align: right;\">\n",
       "      <th></th>\n",
       "      <th>autor</th>\n",
       "      <th>contenido</th>\n",
       "      <th>fecha_creacion</th>\n",
       "    </tr>\n",
       "    <tr>\n",
       "      <th>id_mensaje</th>\n",
       "      <th></th>\n",
       "      <th></th>\n",
       "      <th></th>\n",
       "    </tr>\n",
       "  </thead>\n",
       "  <tbody>\n",
       "    <tr>\n",
       "      <th>102130</th>\n",
       "      <td>606</td>\n",
       "      <td>sí, pero de seguro los ramos tendrán un enfoqu...</td>\n",
       "      <td>2008-11-25 23:42:43</td>\n",
       "    </tr>\n",
       "    <tr>\n",
       "      <th>637678</th>\n",
       "      <td>3402</td>\n",
       "      <td>fooplot.com\\r\\nwolframalpha.com##@@##2078</td>\n",
       "      <td>2010-12-11 00:06:35</td>\n",
       "    </tr>\n",
       "    <tr>\n",
       "      <th>337870</th>\n",
       "      <td>1894</td>\n",
       "      <td>le serviría en cartagua.. eh wait\\r\\n\\r\\nup!##...</td>\n",
       "      <td>2010-03-11 12:40:12</td>\n",
       "    </tr>\n",
       "    <tr>\n",
       "      <th>2240030</th>\n",
       "      <td>7902</td>\n",
       "      <td>+1##@@##2590</td>\n",
       "      <td>2019-07-03 14:56:42</td>\n",
       "    </tr>\n",
       "    <tr>\n",
       "      <th>1718223</th>\n",
       "      <td>1400</td>\n",
       "      <td>tomar Teoría de la computación, Programación d...</td>\n",
       "      <td>2014-12-11 21:21:57</td>\n",
       "    </tr>\n",
       "  </tbody>\n",
       "</table>\n",
       "</div>"
      ],
      "text/plain": [
       "            autor                                          contenido  \\\n",
       "id_mensaje                                                             \n",
       "102130        606  sí, pero de seguro los ramos tendrán un enfoqu...   \n",
       "637678       3402          fooplot.com\\r\\nwolframalpha.com##@@##2078   \n",
       "337870       1894  le serviría en cartagua.. eh wait\\r\\n\\r\\nup!##...   \n",
       "2240030      7902                                       +1##@@##2590   \n",
       "1718223      1400  tomar Teoría de la computación, Programación d...   \n",
       "\n",
       "                fecha_creacion  \n",
       "id_mensaje                      \n",
       "102130     2008-11-25 23:42:43  \n",
       "637678     2010-12-11 00:06:35  \n",
       "337870     2010-03-11 12:40:12  \n",
       "2240030    2019-07-03 14:56:42  \n",
       "1718223    2014-12-11 21:21:57  "
      ]
     },
     "execution_count": 28,
     "metadata": {},
     "output_type": "execute_result"
    }
   ],
   "source": [
    "mensajes_df.sample(5)"
   ]
  },
  {
   "cell_type": "code",
   "execution_count": 18,
   "metadata": {},
   "outputs": [
    {
     "name": "stdout",
     "output_type": "stream",
     "text": [
      " * mysql+mysqlconnector://root@localhost/ucursos\n",
      "1370856 rows affected.\n",
      "Returning data to local variable respuestas\n"
     ]
    }
   ],
   "source": [
    "%%sql respuestas <<\n",
    "select id_mensaje, raiz from respuestas"
   ]
  },
  {
   "cell_type": "code",
   "execution_count": 26,
   "metadata": {},
   "outputs": [],
   "source": [
    "respuestas_df = respuestas.DataFrame().set_index(\"id_mensaje\")"
   ]
  },
  {
   "cell_type": "code",
   "execution_count": 29,
   "metadata": {},
   "outputs": [
    {
     "data": {
      "text/html": [
       "<div>\n",
       "<style scoped>\n",
       "    .dataframe tbody tr th:only-of-type {\n",
       "        vertical-align: middle;\n",
       "    }\n",
       "\n",
       "    .dataframe tbody tr th {\n",
       "        vertical-align: top;\n",
       "    }\n",
       "\n",
       "    .dataframe thead th {\n",
       "        text-align: right;\n",
       "    }\n",
       "</style>\n",
       "<table border=\"1\" class=\"dataframe\">\n",
       "  <thead>\n",
       "    <tr style=\"text-align: right;\">\n",
       "      <th></th>\n",
       "      <th>raiz</th>\n",
       "    </tr>\n",
       "    <tr>\n",
       "      <th>id_mensaje</th>\n",
       "      <th></th>\n",
       "    </tr>\n",
       "  </thead>\n",
       "  <tbody>\n",
       "    <tr>\n",
       "      <th>2204480</th>\n",
       "      <td>2204304</td>\n",
       "    </tr>\n",
       "    <tr>\n",
       "      <th>2204420</th>\n",
       "      <td>2204304</td>\n",
       "    </tr>\n",
       "    <tr>\n",
       "      <th>2204476</th>\n",
       "      <td>2204304</td>\n",
       "    </tr>\n",
       "    <tr>\n",
       "      <th>2204304</th>\n",
       "      <td>2204304</td>\n",
       "    </tr>\n",
       "    <tr>\n",
       "      <th>2204408</th>\n",
       "      <td>2204304</td>\n",
       "    </tr>\n",
       "  </tbody>\n",
       "</table>\n",
       "</div>"
      ],
      "text/plain": [
       "               raiz\n",
       "id_mensaje         \n",
       "2204480     2204304\n",
       "2204420     2204304\n",
       "2204476     2204304\n",
       "2204304     2204304\n",
       "2204408     2204304"
      ]
     },
     "execution_count": 29,
     "metadata": {},
     "output_type": "execute_result"
    }
   ],
   "source": [
    "respuestas_df.head()"
   ]
  },
  {
   "cell_type": "code",
   "execution_count": 49,
   "metadata": {},
   "outputs": [
    {
     "data": {
      "text/html": [
       "<div>\n",
       "<style scoped>\n",
       "    .dataframe tbody tr th:only-of-type {\n",
       "        vertical-align: middle;\n",
       "    }\n",
       "\n",
       "    .dataframe tbody tr th {\n",
       "        vertical-align: top;\n",
       "    }\n",
       "\n",
       "    .dataframe thead th {\n",
       "        text-align: right;\n",
       "    }\n",
       "</style>\n",
       "<table border=\"1\" class=\"dataframe\">\n",
       "  <thead>\n",
       "    <tr style=\"text-align: right;\">\n",
       "      <th></th>\n",
       "      <th>autor</th>\n",
       "      <th>contenido</th>\n",
       "      <th>fecha_creacion_mensaje</th>\n",
       "      <th>id_mensaje</th>\n",
       "    </tr>\n",
       "    <tr>\n",
       "      <th>raiz</th>\n",
       "      <th></th>\n",
       "      <th></th>\n",
       "      <th></th>\n",
       "      <th></th>\n",
       "    </tr>\n",
       "  </thead>\n",
       "  <tbody>\n",
       "    <tr>\n",
       "      <th>2204304</th>\n",
       "      <td>6445</td>\n",
       "      <td>Gracias :)##@@##2078</td>\n",
       "      <td>2019-03-15 23:54:54</td>\n",
       "      <td>2204480</td>\n",
       "    </tr>\n",
       "    <tr>\n",
       "      <th>2204304</th>\n",
       "      <td>10314</td>\n",
       "      <td>No sé si funciona así, yo he dejado mis cosas ...</td>\n",
       "      <td>2019-03-15 18:04:34</td>\n",
       "      <td>2204420</td>\n",
       "    </tr>\n",
       "    <tr>\n",
       "      <th>2204304</th>\n",
       "      <td>8184</td>\n",
       "      <td>solo tienes que pedir una llave en el meson al...</td>\n",
       "      <td>2019-03-15 23:42:49</td>\n",
       "      <td>2204476</td>\n",
       "    </tr>\n",
       "    <tr>\n",
       "      <th>2204304</th>\n",
       "      <td>5997</td>\n",
       "      <td>Se dieron cuenta que está cerrada?##@@##2078</td>\n",
       "      <td>2019-03-15 12:51:56</td>\n",
       "      <td>2204304</td>\n",
       "    </tr>\n",
       "    <tr>\n",
       "      <th>2204304</th>\n",
       "      <td>6445</td>\n",
       "      <td>Parece que ya no existira :(##@@##2078</td>\n",
       "      <td>2019-03-15 17:33:53</td>\n",
       "      <td>2204408</td>\n",
       "    </tr>\n",
       "  </tbody>\n",
       "</table>\n",
       "</div>"
      ],
      "text/plain": [
       "         autor                                          contenido  \\\n",
       "raiz                                                                \n",
       "2204304   6445                               Gracias :)##@@##2078   \n",
       "2204304  10314  No sé si funciona así, yo he dejado mis cosas ...   \n",
       "2204304   8184  solo tienes que pedir una llave en el meson al...   \n",
       "2204304   5997       Se dieron cuenta que está cerrada?##@@##2078   \n",
       "2204304   6445             Parece que ya no existira :(##@@##2078   \n",
       "\n",
       "        fecha_creacion_mensaje  id_mensaje  \n",
       "raiz                                        \n",
       "2204304    2019-03-15 23:54:54     2204480  \n",
       "2204304    2019-03-15 18:04:34     2204420  \n",
       "2204304    2019-03-15 23:42:49     2204476  \n",
       "2204304    2019-03-15 12:51:56     2204304  \n",
       "2204304    2019-03-15 17:33:53     2204408  "
      ]
     },
     "execution_count": 49,
     "metadata": {},
     "output_type": "execute_result"
    }
   ],
   "source": [
    "mensajes2_df = respuestas_df.join(mensajes_df)\n",
    "\n",
    "mensajes2_df['id_mensaje'] = mensajes2_df.index\n",
    "mensajes2_df = mensajes2_df.set_index(\"raiz\")\n",
    "mensajes2_df = mensajes2_df.rename(columns={'fecha_creacion': 'fecha_creacion_mensaje'})\n",
    "\n",
    "mensajes2_df.head()"
   ]
  },
  {
   "cell_type": "code",
   "execution_count": 52,
   "metadata": {},
   "outputs": [],
   "source": [
    "df = mensajes2_df.join(temas_df)\n",
    "df['raiz'] = df.index\n",
    "df = df.set_index(\"id_mensaje\")"
   ]
  },
  {
   "cell_type": "code",
   "execution_count": 100,
   "metadata": {},
   "outputs": [
    {
     "data": {
      "text/html": [
       "<div>\n",
       "<style scoped>\n",
       "    .dataframe tbody tr th:only-of-type {\n",
       "        vertical-align: middle;\n",
       "    }\n",
       "\n",
       "    .dataframe tbody tr th {\n",
       "        vertical-align: top;\n",
       "    }\n",
       "\n",
       "    .dataframe thead th {\n",
       "        text-align: right;\n",
       "    }\n",
       "</style>\n",
       "<table border=\"1\" class=\"dataframe\">\n",
       "  <thead>\n",
       "    <tr style=\"text-align: right;\">\n",
       "      <th></th>\n",
       "      <th>autor</th>\n",
       "      <th>contenido</th>\n",
       "      <th>fecha_creacion_mensaje</th>\n",
       "      <th>titulo</th>\n",
       "      <th>fecha_creacion</th>\n",
       "      <th>n_mensajes</th>\n",
       "      <th>usuarios_unicos</th>\n",
       "      <th>mensajes_hombres</th>\n",
       "      <th>mensajes_mujeres</th>\n",
       "      <th>hombres_uniq</th>\n",
       "      <th>mujeres_uniq</th>\n",
       "      <th>raiz</th>\n",
       "    </tr>\n",
       "    <tr>\n",
       "      <th>id_mensaje</th>\n",
       "      <th></th>\n",
       "      <th></th>\n",
       "      <th></th>\n",
       "      <th></th>\n",
       "      <th></th>\n",
       "      <th></th>\n",
       "      <th></th>\n",
       "      <th></th>\n",
       "      <th></th>\n",
       "      <th></th>\n",
       "      <th></th>\n",
       "      <th></th>\n",
       "    </tr>\n",
       "  </thead>\n",
       "  <tbody>\n",
       "    <tr>\n",
       "      <th>11635</th>\n",
       "      <td>1</td>\n",
       "      <td>Esta es una nueva herramienta que ha \\rdesarro...</td>\n",
       "      <td>2002-03-11 12:16:44</td>\n",
       "      <td>Bienvenidos al Foro de Ingeniería</td>\n",
       "      <td>2002-03-11 12:16:44</td>\n",
       "      <td>3</td>\n",
       "      <td>2</td>\n",
       "      <td>3</td>\n",
       "      <td>0</td>\n",
       "      <td>2</td>\n",
       "      <td>0.0</td>\n",
       "      <td>11635</td>\n",
       "    </tr>\n",
       "    <tr>\n",
       "      <th>11637</th>\n",
       "      <td>3</td>\n",
       "      <td>Esta es una nueva herramienta que ha \\rdesarro...</td>\n",
       "      <td>2002-03-11 19:20:23</td>\n",
       "      <td>Bienvenidos al Foro de Ingeniería</td>\n",
       "      <td>2002-03-11 12:16:44</td>\n",
       "      <td>3</td>\n",
       "      <td>2</td>\n",
       "      <td>3</td>\n",
       "      <td>0</td>\n",
       "      <td>2</td>\n",
       "      <td>0.0</td>\n",
       "      <td>11635</td>\n",
       "    </tr>\n",
       "    <tr>\n",
       "      <th>11638</th>\n",
       "      <td>3</td>\n",
       "      <td>vaya me puse click sin querer en el mensage \\r...</td>\n",
       "      <td>2002-03-11 19:21:33</td>\n",
       "      <td>Bienvenidos al Foro de Ingeniería</td>\n",
       "      <td>2002-03-11 12:16:44</td>\n",
       "      <td>3</td>\n",
       "      <td>2</td>\n",
       "      <td>3</td>\n",
       "      <td>0</td>\n",
       "      <td>2</td>\n",
       "      <td>0.0</td>\n",
       "      <td>11635</td>\n",
       "    </tr>\n",
       "  </tbody>\n",
       "</table>\n",
       "</div>"
      ],
      "text/plain": [
       "            autor                                          contenido  \\\n",
       "id_mensaje                                                             \n",
       "11635           1  Esta es una nueva herramienta que ha \\rdesarro...   \n",
       "11637           3  Esta es una nueva herramienta que ha \\rdesarro...   \n",
       "11638           3  vaya me puse click sin querer en el mensage \\r...   \n",
       "\n",
       "           fecha_creacion_mensaje                             titulo  \\\n",
       "id_mensaje                                                             \n",
       "11635         2002-03-11 12:16:44  Bienvenidos al Foro de Ingeniería   \n",
       "11637         2002-03-11 19:20:23  Bienvenidos al Foro de Ingeniería   \n",
       "11638         2002-03-11 19:21:33  Bienvenidos al Foro de Ingeniería   \n",
       "\n",
       "                fecha_creacion  n_mensajes  usuarios_unicos  mensajes_hombres  \\\n",
       "id_mensaje                                                                      \n",
       "11635      2002-03-11 12:16:44           3                2                 3   \n",
       "11637      2002-03-11 12:16:44           3                2                 3   \n",
       "11638      2002-03-11 12:16:44           3                2                 3   \n",
       "\n",
       "            mensajes_mujeres  hombres_uniq  mujeres_uniq   raiz  \n",
       "id_mensaje                                                       \n",
       "11635                      0             2           0.0  11635  \n",
       "11637                      0             2           0.0  11635  \n",
       "11638                      0             2           0.0  11635  "
      ]
     },
     "execution_count": 100,
     "metadata": {},
     "output_type": "execute_result"
    }
   ],
   "source": [
    "df.head(3)"
   ]
  },
  {
   "cell_type": "markdown",
   "metadata": {},
   "source": [
    "# Tópicos por tema"
   ]
  },
  {
   "cell_type": "code",
   "execution_count": 181,
   "metadata": {},
   "outputs": [],
   "source": [
    "nlp = spacy.load('es_core_news_sm')"
   ]
  },
  {
   "cell_type": "code",
   "execution_count": 175,
   "metadata": {},
   "outputs": [],
   "source": [
    "def tokenize(doc, nlp, include_stopwords=False, include_punctuation=False):\n",
    "    tokens = nlp(doc)\n",
    "    processed = []\n",
    "    for token in tokens:\n",
    "        word = None\n",
    "        if token.is_digit or re.match(DECIMAL_REGEX, token.lower_):\n",
    "            word = \"<NUMBER>\"\n",
    "        elif re.match(URL_REGEX, token.lower_):\n",
    "            word = \"<URL>\"\n",
    "        elif token.is_stop or token.lower_ in sw:\n",
    "            word = \"<STOPWORD>\" if include_stopwords else None\n",
    "        elif token.is_punct or token.lower_ in punct:\n",
    "            word = \"<PUNCT>\" if include_punctuation else None\n",
    "        else:\n",
    "            word = token.lemma_\n",
    "            word = word.lower()\n",
    "            word = word.strip()\n",
    "            word = preprocessing.remove_accents(word)\n",
    "            word = word if word != '' else None\n",
    "\n",
    "        if word:\n",
    "            processed.append(word)\n",
    "    return processed"
   ]
  },
  {
   "cell_type": "code",
   "execution_count": 176,
   "metadata": {},
   "outputs": [],
   "source": [
    "from tqdm import tqdm_notebook as tqdm"
   ]
  },
  {
   "cell_type": "code",
   "execution_count": 182,
   "metadata": {},
   "outputs": [],
   "source": [
    "df['tokens'] = df['contenido'].apply(lambda row: tokenize(row, nlp))"
   ]
  },
  {
   "cell_type": "code",
   "execution_count": null,
   "metadata": {},
   "outputs": [],
   "source": []
  }
 ],
 "metadata": {
  "kernelspec": {
   "display_name": "Python 3",
   "language": "python",
   "name": "python3"
  },
  "language_info": {
   "codemirror_mode": {
    "name": "ipython",
    "version": 3
   },
   "file_extension": ".py",
   "mimetype": "text/x-python",
   "name": "python",
   "nbconvert_exporter": "python",
   "pygments_lexer": "ipython3",
   "version": "3.7.3"
  }
 },
 "nbformat": 4,
 "nbformat_minor": 4
}
