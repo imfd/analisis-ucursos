{
 "cells": [
  {
   "cell_type": "code",
   "execution_count": 1,
   "metadata": {},
   "outputs": [],
   "source": [
    "%load_ext sql"
   ]
  },
  {
   "cell_type": "code",
   "execution_count": 2,
   "metadata": {},
   "outputs": [
    {
     "name": "stdout",
     "output_type": "stream",
     "text": [
      "env: DATABASE_URL=mysql+mysqlconnector://root@localhost/ucursos\n"
     ]
    }
   ],
   "source": [
    "%env DATABASE_URL=mysql+mysqlconnector://root@localhost/ucursos"
   ]
  },
  {
   "cell_type": "code",
   "execution_count": 103,
   "metadata": {},
   "outputs": [],
   "source": [
    "from collections import defaultdict, Counter\n",
    "\n",
    "import numpy as np\n",
    "import pandas as pd\n",
    "\n",
    "from tqdm import tqdm_notebook as tqdm\n",
    "\n",
    "import spacy"
   ]
  },
  {
   "cell_type": "code",
   "execution_count": 17,
   "metadata": {},
   "outputs": [],
   "source": [
    "nlp = spacy.load(\"es_core_news_sm\")"
   ]
  },
  {
   "cell_type": "code",
   "execution_count": 18,
   "metadata": {},
   "outputs": [],
   "source": [
    "import matplotlib.pyplot as plt\n",
    "import seaborn as sns\n",
    "sns.set(style=\"darkgrid\")\n",
    "plt.rcParams['figure.figsize'] = [15, 5]"
   ]
  },
  {
   "cell_type": "markdown",
   "metadata": {},
   "source": [
    "# Exploración básica"
   ]
  },
  {
   "cell_type": "code",
   "execution_count": 6,
   "metadata": {},
   "outputs": [
    {
     "name": "stdout",
     "output_type": "stream",
     "text": [
      "10 rows affected.\n"
     ]
    },
    {
     "data": {
      "text/html": [
       "<table>\n",
       "    <tr>\n",
       "        <th>MEN_CONTENIDO</th>\n",
       "    </tr>\n",
       "    <tr>\n",
       "        <td>Esta es una nueva herramienta que ha \r",
       "desarrollado la Escuela de Ingeniería y \r",
       "Ciencias cuyo propósito es facilitar la \r",
       "participación en temas de interés para \r",
       "nuestros alumnos, exalumnos, académicos \r",
       "y autoridades de nuestra Facultad.</td>\n",
       "    </tr>\n",
       "    <tr>\n",
       "        <td>Felicitaciones por esta iniciativa ,\r",
       "espero que todos sepamos darle un buen\r",
       "uso y sea un medio de apoyo a nuestras\r",
       "labores.</td>\n",
       "    </tr>\n",
       "    <tr>\n",
       "        <td>Esta es una nueva herramienta que ha \r",
       "desarrollado la Escuela de Ingeniería y \r",
       "Ciencias cuyo propósito es facilitar la \r",
       "participación en temas de interés para \r",
       "nuestros alumnos, exalumnos, académicos \r",
       "y autoridades de nuestra Facultad.\r",
       "</td>\n",
       "    </tr>\n",
       "    <tr>\n",
       "        <td>vaya me puse click sin querer en el mensage \r",
       "anterior.. pero lo q queria decir es q me parece \r",
       "una gran idea. sigan adelante :)\r",
       "</td>\n",
       "    </tr>\n",
       "    <tr>\n",
       "        <td>Felicitaciones por la iniciativa, \r",
       "espero que sepamos darle un buen uso a \r",
       "esto y que realmente la escuela sepa \r",
       "darle un buen uso tambián.\r",
       "\r",
       "Saludos</td>\n",
       "    </tr>\n",
       "    <tr>\n",
       "        <td>Me parece muy bien que hayan hecho un \r",
       "foro que imagino que es muy seguro, \r",
       "aunque es una pena que no todo el mundo \r",
       "se haya acostumbrado (o no les hayan \r",
       "enseñado) a usar las news, que deberian \r",
       "ser el canal de discusion por defecto.\r",
       "\r",
       "Para empezar, escribo esto desde mi \r",
       "casa porque como los computinomanos se \r",
       "habran dado cuenta, las salas de \r",
       "computadores están inhabilitadas hasta \r",
       "nuevo aviso. Con los pocos dias \r",
       "disponibles para el modifica, me parece \r",
       "bastante serio, porque no toda la gente \r",
       "tiene conexión en su casa, y los \r",
       "computadores del zócalo no dan abasto.</td>\n",
       "    </tr>\n",
       "    <tr>\n",
       "        <td>...na que decir..toda la razon...</td>\n",
       "    </tr>\n",
       "    <tr>\n",
       "        <td>voy directo al grano... Considero que el \r",
       "tiempo que se nos da para almorzar en \r",
       "esta escuela es insuficiente.\r",
       "Considerando que este tiempo se comparte \r",
       "con:\r",
       "1. profesores que no terminan sus clases \r",
       "a tiempo.\r",
       "2. traslado al lugar donde se va a \r",
       "almorzar.\r",
       "3. espera en el mismo restaurant.\r",
       "4. buscar un baño para aseo bucal.\r",
       "5. retorno a las salas de clases (a \r",
       "veces, el trayecto es largo).\r",
       "6. un MÍNIMO DE TIEMPO PARA REPOSAR.\r",
       "Es hora que nos acerquemos a nuestro \r",
       "centro de estudiantes, para exigir \r",
       "cambios en los horarios de colación. Si \r",
       "nos unimos por esta causa, lograremos \r",
       "los cambios que necesitamos los alumnos.\r",
       "Acércate al CEI con tus quejas.</td>\n",
       "    </tr>\n",
       "    <tr>\n",
       "        <td>Propongo desde ya que se cree otro foro \r",
       "con el tema &quot;Panoramas en la Escuela&quot;\r",
       "\r",
       "Cuyo unico fin sea publicar conciertos, \r",
       "exposiciones, actividades, \r",
       "presentaciones...etc. \r",
       "\r",
       "Espero les guste la idea!</td>\n",
       "    </tr>\n",
       "    <tr>\n",
       "        <td>mas que aumentar el tiempo para almorzar, creo \r",
       "que la crisis alimenticia de la escuela no pasa \r",
       "por eso. \r",
       "Creo que el problema radica en la POCA CALIDAD de \r",
       "alimentaciòn que los buchefianos estamos \r",
       "obteniendo. Quizás este año las cosas cambien, \r",
       "pero muy bien saben que la comida del casino es \r",
       "muy mala, que durante el año anterior la cafeta \r",
       "del CEI (mal ventilada y muy cochina) estuvo \r",
       "cerrada, que la muchos estudiantes derivaron a \r",
       "comer simples sandwich comprados en la calle o en \r",
       "algunos de los kioskos y locales dentro y en las \r",
       "cercanías de la facultad. \r",
       "Yo creo que el tema no solo pasa por el Centro de \r",
       "Estudiantes, si no también por las autoridades de \r",
       "la escuela, las cuales no solo deben velar por la \r",
       "formación academica de los Estudiantes, si no \r",
       "tambien por aquella cosa mas importante como es \r",
       "el bienestar de ellos.</td>\n",
       "    </tr>\n",
       "</table>"
      ],
      "text/plain": [
       "[('Esta es una nueva herramienta que ha \\rdesarrollado la Escuela de Ingeniería y \\rCiencias cuyo propósito es facilitar la \\rparticipación en temas de interés para \\rnuestros alumnos, exalumnos, académicos \\ry autoridades de nuestra Facultad.',),\n",
       " ('Felicitaciones por esta iniciativa ,\\respero que todos sepamos darle un buen\\ruso y sea un medio de apoyo a nuestras\\rlabores.',),\n",
       " ('Esta es una nueva herramienta que ha \\rdesarrollado la Escuela de Ingeniería y \\rCiencias cuyo propósito es facilitar la \\rparticipación en temas de interés para \\rnuestros alumnos, exalumnos, académicos \\ry autoridades de nuestra Facultad.\\r',),\n",
       " ('vaya me puse click sin querer en el mensage \\ranterior.. pero lo q queria decir es q me parece \\runa gran idea. sigan adelante :)\\r',),\n",
       " ('Felicitaciones por la iniciativa, \\respero que sepamos darle un buen uso a \\resto y que realmente la escuela sepa \\rdarle un buen uso tambián.\\r\\rSaludos',),\n",
       " ('Me parece muy bien que hayan hecho un \\rforo que imagino que es muy seguro, \\raunque es una pena que no todo el mundo \\rse haya acostumbrado (o no le ... (291 characters truncated) ... les para el modifica, me parece \\rbastante serio, porque no toda la gente \\rtiene conexión en su casa, y los \\rcomputadores del zócalo no dan abasto.',),\n",
       " ('...na que decir..toda la razon...',),\n",
       " ('voy directo al grano... Considero que el \\rtiempo que se nos da para almorzar en \\resta escuela es insuficiente.\\rConsiderando que este tiempo se com ... (376 characters truncated) ... s en los horarios de colación. Si \\rnos unimos por esta causa, lograremos \\rlos cambios que necesitamos los alumnos.\\rAcércate al CEI con tus quejas.',),\n",
       " ('Propongo desde ya que se cree otro foro \\rcon el tema \"Panoramas en la Escuela\"\\r\\rCuyo unico fin sea publicar conciertos, \\rexposiciones, actividades, \\rpresentaciones...etc. \\r\\rEspero les guste la idea!',),\n",
       " ('mas que aumentar el tiempo para almorzar, creo \\rque la crisis alimenticia de la escuela no pasa \\rpor eso. \\rCreo que el problema radica en la POCA  ... (559 characters truncated) ... no solo deben velar por la \\rformación academica de los Estudiantes, si no \\rtambien por aquella cosa mas importante como es \\rel bienestar de ellos.',)]"
      ]
     },
     "execution_count": 6,
     "metadata": {},
     "output_type": "execute_result"
    }
   ],
   "source": [
    "%%sql\n",
    "\n",
    "SELECT MEN_CONTENIDO\n",
    "FROM MENSAJES_INGENIERIA\n",
    "LIMIT 10"
   ]
  },
  {
   "cell_type": "code",
   "execution_count": 8,
   "metadata": {},
   "outputs": [
    {
     "name": "stdout",
     "output_type": "stream",
     "text": [
      " * mysql+mysqlconnector://root@localhost/ucursos\n",
      "10 rows affected.\n"
     ]
    },
    {
     "data": {
      "text/html": [
       "<table>\n",
       "    <tr>\n",
       "        <th>MEN_TITULO</th>\n",
       "    </tr>\n",
       "    <tr>\n",
       "        <td>Bienvenidos al Foro de Ingeniería</td>\n",
       "    </tr>\n",
       "    <tr>\n",
       "        <td>Felicitaciones</td>\n",
       "    </tr>\n",
       "    <tr>\n",
       "        <td>Re: Bienvenidos al Foro de Ingeniería</td>\n",
       "    </tr>\n",
       "    <tr>\n",
       "        <td>Re: Re: Bienvenidos al Foro de Ingeniería</td>\n",
       "    </tr>\n",
       "    <tr>\n",
       "        <td>Felicitaciones</td>\n",
       "    </tr>\n",
       "    <tr>\n",
       "        <td>buena idea Y para empezar</td>\n",
       "    </tr>\n",
       "    <tr>\n",
       "        <td>Re: buena idea Y para empezar</td>\n",
       "    </tr>\n",
       "    <tr>\n",
       "        <td>más tiempo para almorzar</td>\n",
       "    </tr>\n",
       "    <tr>\n",
       "        <td>propongo nuevo foro (tema aparte)</td>\n",
       "    </tr>\n",
       "    <tr>\n",
       "        <td>Re: más tiempo para almorzar</td>\n",
       "    </tr>\n",
       "</table>"
      ],
      "text/plain": [
       "[('Bienvenidos al Foro de Ingeniería',),\n",
       " ('Felicitaciones',),\n",
       " ('Re: Bienvenidos al Foro de Ingeniería',),\n",
       " ('Re: Re: Bienvenidos al Foro de Ingeniería',),\n",
       " ('Felicitaciones',),\n",
       " ('buena idea Y para empezar',),\n",
       " ('Re: buena idea Y para empezar',),\n",
       " ('más tiempo para almorzar',),\n",
       " ('propongo nuevo foro (tema aparte)',),\n",
       " ('Re: más tiempo para almorzar',)]"
      ]
     },
     "execution_count": 8,
     "metadata": {},
     "output_type": "execute_result"
    }
   ],
   "source": [
    "%%sql\n",
    "\n",
    "SELECT MEN_TITULO\n",
    "FROM MENSAJES_INGENIERIA\n",
    "LIMIT 10"
   ]
  },
  {
   "cell_type": "code",
   "execution_count": 62,
   "metadata": {},
   "outputs": [
    {
     "name": "stdout",
     "output_type": "stream",
     "text": [
      " * mysql+mysqlconnector://root@localhost/ucursos\n",
      "1376786 rows affected.\n",
      "Returning data to local variable textos\n"
     ]
    }
   ],
   "source": [
    "%%sql textos <<\n",
    "\n",
    "SELECT MEN_ID, MEN_MEN_ID, MEN_TEM_ID, MEN_FECHA_CREACION, MEN_CONTENIDO\n",
    "FROM MENSAJES_INGENIERIA"
   ]
  },
  {
   "cell_type": "code",
   "execution_count": 63,
   "metadata": {},
   "outputs": [],
   "source": [
    "textos = textos.DataFrame()"
   ]
  },
  {
   "cell_type": "markdown",
   "metadata": {},
   "source": [
    "## Largo de mensajes"
   ]
  },
  {
   "cell_type": "code",
   "execution_count": 112,
   "metadata": {},
   "outputs": [
    {
     "data": {
      "application/vnd.jupyter.widget-view+json": {
       "model_id": "fc2482b6dfe24fb99b9dfb6a52a899f9",
       "version_major": 2,
       "version_minor": 0
      },
      "text/plain": [
       "HBox(children=(IntProgress(value=0, max=1376786), HTML(value='')))"
      ]
     },
     "metadata": {},
     "output_type": "display_data"
    }
   ],
   "source": [
    "largos = []\n",
    "vocab = Counter()\n",
    "for msg in tqdm(textos['MEN_CONTENIDO']):\n",
    "    largos.append(len(msg))\n",
    "    tokens = msg.lower().split()\n",
    "    vocab.update(tokens)        "
   ]
  },
  {
   "cell_type": "code",
   "execution_count": 115,
   "metadata": {},
   "outputs": [
    {
     "data": {
      "image/png": "[encoded data removed]",
      "text/plain": [
       "<Figure size 1080x360 with 1 Axes>"
      ]
     },
     "metadata": {},
     "output_type": "display_data"
    }
   ],
   "source": [
    "ax = sns.distplot(np.array(largos))"
   ]
  },
  {
   "cell_type": "code",
   "execution_count": 119,
   "metadata": {},
   "outputs": [
    {
     "name": "stdout",
     "output_type": "stream",
     "text": [
      "tamaño del vocabulario: 1245261\n"
     ]
    }
   ],
   "source": [
    "print(\"tamaño del vocabulario:\", len(vocab))"
   ]
  },
  {
   "cell_type": "code",
   "execution_count": 129,
   "metadata": {},
   "outputs": [
    {
     "data": {
      "image/png": "[encoded data removed]",
      "text/plain": [
       "<Figure size 1080x360 with 1 Axes>"
      ]
     },
     "metadata": {},
     "output_type": "display_data"
    }
   ],
   "source": [
    "vocab_top20 = vocab.most_common(30)\n",
    "tokens, freq = zip(*vocab_top20)\n",
    "\n",
    "bar = plt.bar(x=tokens, height=freq)"
   ]
  },
  {
   "cell_type": "markdown",
   "metadata": {},
   "source": [
    "# Preprocesamiento"
   ]
  },
  {
   "cell_type": "code",
   "execution_count": 64,
   "metadata": {},
   "outputs": [
    {
     "data": {
      "text/html": [
       "<div>\n",
       "<style scoped>\n",
       "    .dataframe tbody tr th:only-of-type {\n",
       "        vertical-align: middle;\n",
       "    }\n",
       "\n",
       "    .dataframe tbody tr th {\n",
       "        vertical-align: top;\n",
       "    }\n",
       "\n",
       "    .dataframe thead th {\n",
       "        text-align: right;\n",
       "    }\n",
       "</style>\n",
       "<table border=\"1\" class=\"dataframe\">\n",
       "  <thead>\n",
       "    <tr style=\"text-align: right;\">\n",
       "      <th></th>\n",
       "      <th>MEN_ID</th>\n",
       "      <th>MEN_MEN_ID</th>\n",
       "      <th>MEN_TEM_ID</th>\n",
       "      <th>MEN_FECHA_CREACION</th>\n",
       "      <th>MEN_CONTENIDO</th>\n",
       "    </tr>\n",
       "  </thead>\n",
       "  <tbody>\n",
       "    <tr>\n",
       "      <th>0</th>\n",
       "      <td>11635</td>\n",
       "      <td>0</td>\n",
       "      <td>36</td>\n",
       "      <td>2002-03-11 12:16:44</td>\n",
       "      <td>Esta es una nueva herramienta que ha \\rdesarro...</td>\n",
       "    </tr>\n",
       "    <tr>\n",
       "      <th>1</th>\n",
       "      <td>11636</td>\n",
       "      <td>0</td>\n",
       "      <td>36</td>\n",
       "      <td>2002-03-11 14:29:30</td>\n",
       "      <td>Felicitaciones por esta iniciativa ,\\respero q...</td>\n",
       "    </tr>\n",
       "    <tr>\n",
       "      <th>2</th>\n",
       "      <td>11637</td>\n",
       "      <td>11635</td>\n",
       "      <td>36</td>\n",
       "      <td>2002-03-11 19:20:23</td>\n",
       "      <td>Esta es una nueva herramienta que ha \\rdesarro...</td>\n",
       "    </tr>\n",
       "    <tr>\n",
       "      <th>3</th>\n",
       "      <td>11638</td>\n",
       "      <td>11637</td>\n",
       "      <td>36</td>\n",
       "      <td>2002-03-11 19:21:33</td>\n",
       "      <td>vaya me puse click sin querer en el mensage \\r...</td>\n",
       "    </tr>\n",
       "    <tr>\n",
       "      <th>4</th>\n",
       "      <td>11639</td>\n",
       "      <td>0</td>\n",
       "      <td>36</td>\n",
       "      <td>2002-03-11 20:20:12</td>\n",
       "      <td>Felicitaciones por la iniciativa, \\respero que...</td>\n",
       "    </tr>\n",
       "  </tbody>\n",
       "</table>\n",
       "</div>"
      ],
      "text/plain": [
       "   MEN_ID  MEN_MEN_ID  MEN_TEM_ID  MEN_FECHA_CREACION  \\\n",
       "0   11635           0          36 2002-03-11 12:16:44   \n",
       "1   11636           0          36 2002-03-11 14:29:30   \n",
       "2   11637       11635          36 2002-03-11 19:20:23   \n",
       "3   11638       11637          36 2002-03-11 19:21:33   \n",
       "4   11639           0          36 2002-03-11 20:20:12   \n",
       "\n",
       "                                       MEN_CONTENIDO  \n",
       "0  Esta es una nueva herramienta que ha \\rdesarro...  \n",
       "1  Felicitaciones por esta iniciativa ,\\respero q...  \n",
       "2  Esta es una nueva herramienta que ha \\rdesarro...  \n",
       "3  vaya me puse click sin querer en el mensage \\r...  \n",
       "4  Felicitaciones por la iniciativa, \\respero que...  "
      ]
     },
     "execution_count": 64,
     "metadata": {},
     "output_type": "execute_result"
    }
   ],
   "source": [
    "textos.head()"
   ]
  },
  {
   "cell_type": "code",
   "execution_count": 83,
   "metadata": {
    "collapsed": true
   },
   "outputs": [
    {
     "data": {
      "application/vnd.jupyter.widget-view+json": {
       "model_id": "53fd86c51e034ff99f8de3b1f17226d1",
       "version_major": 2,
       "version_minor": 0
      },
      "text/plain": [
       "HBox(children=(IntProgress(value=0, max=1376786), HTML(value='')))"
      ]
     },
     "metadata": {},
     "output_type": "display_data"
    },
    {
     "ename": "KeyboardInterrupt",
     "evalue": "",
     "output_type": "error",
     "traceback": [
      "\u001b[0;31m---------------------------------------------------------------------------\u001b[0m",
      "\u001b[0;31mKeyboardInterrupt\u001b[0m                         Traceback (most recent call last)",
      "\u001b[0;32m<ipython-input-83-a42adb8c8c38>\u001b[0m in \u001b[0;36m<module>\u001b[0;34m\u001b[0m\n\u001b[1;32m      3\u001b[0m for doc_id, doc in tqdm(zip(textos['MEN_ID'], \n\u001b[1;32m      4\u001b[0m                             nlp.pipe(textos[\"MEN_CONTENIDO\"], disable=[\"tagger\", \"parser\", \"ner\"])),\n\u001b[0;32m----> 5\u001b[0;31m                         total=len(textos)):\n\u001b[0m\u001b[1;32m      6\u001b[0m     \u001b[0;32mfor\u001b[0m \u001b[0mtoken\u001b[0m \u001b[0;32min\u001b[0m \u001b[0mdoc\u001b[0m\u001b[0;34m:\u001b[0m\u001b[0;34m\u001b[0m\u001b[0;34m\u001b[0m\u001b[0m\n\u001b[1;32m      7\u001b[0m         \u001b[0;32mif\u001b[0m \u001b[0mtoken\u001b[0m\u001b[0;34m.\u001b[0m\u001b[0mis_punct\u001b[0m\u001b[0;34m:\u001b[0m\u001b[0;34m\u001b[0m\u001b[0;34m\u001b[0m\u001b[0m\n",
      "\u001b[0;32m~/anaconda3/envs/u-cursos/lib/python3.7/site-packages/tqdm/_tqdm_notebook.py\u001b[0m in \u001b[0;36m__iter__\u001b[0;34m(self, *args, **kwargs)\u001b[0m\n\u001b[1;32m    221\u001b[0m     \u001b[0;32mdef\u001b[0m \u001b[0m__iter__\u001b[0m\u001b[0;34m(\u001b[0m\u001b[0mself\u001b[0m\u001b[0;34m,\u001b[0m \u001b[0;34m*\u001b[0m\u001b[0margs\u001b[0m\u001b[0;34m,\u001b[0m \u001b[0;34m**\u001b[0m\u001b[0mkwargs\u001b[0m\u001b[0;34m)\u001b[0m\u001b[0;34m:\u001b[0m\u001b[0;34m\u001b[0m\u001b[0;34m\u001b[0m\u001b[0m\n\u001b[1;32m    222\u001b[0m         \u001b[0;32mtry\u001b[0m\u001b[0;34m:\u001b[0m\u001b[0;34m\u001b[0m\u001b[0;34m\u001b[0m\u001b[0m\n\u001b[0;32m--> 223\u001b[0;31m             \u001b[0;32mfor\u001b[0m \u001b[0mobj\u001b[0m \u001b[0;32min\u001b[0m \u001b[0msuper\u001b[0m\u001b[0;34m(\u001b[0m\u001b[0mtqdm_notebook\u001b[0m\u001b[0;34m,\u001b[0m \u001b[0mself\u001b[0m\u001b[0;34m)\u001b[0m\u001b[0;34m.\u001b[0m\u001b[0m__iter__\u001b[0m\u001b[0;34m(\u001b[0m\u001b[0;34m*\u001b[0m\u001b[0margs\u001b[0m\u001b[0;34m,\u001b[0m \u001b[0;34m**\u001b[0m\u001b[0mkwargs\u001b[0m\u001b[0;34m)\u001b[0m\u001b[0;34m:\u001b[0m\u001b[0;34m\u001b[0m\u001b[0;34m\u001b[0m\u001b[0m\n\u001b[0m\u001b[1;32m    224\u001b[0m                 \u001b[0;31m# return super(tqdm...) will not catch exception\u001b[0m\u001b[0;34m\u001b[0m\u001b[0;34m\u001b[0m\u001b[0;34m\u001b[0m\u001b[0m\n\u001b[1;32m    225\u001b[0m                 \u001b[0;32myield\u001b[0m \u001b[0mobj\u001b[0m\u001b[0;34m\u001b[0m\u001b[0;34m\u001b[0m\u001b[0m\n",
      "\u001b[0;32m~/anaconda3/envs/u-cursos/lib/python3.7/site-packages/tqdm/_tqdm.py\u001b[0m in \u001b[0;36m__iter__\u001b[0;34m(self)\u001b[0m\n\u001b[1;32m   1003\u001b[0m                 \"\"\"), fp_write=getattr(self.fp, 'write', sys.stderr.write))\n\u001b[1;32m   1004\u001b[0m \u001b[0;34m\u001b[0m\u001b[0m\n\u001b[0;32m-> 1005\u001b[0;31m             \u001b[0;32mfor\u001b[0m \u001b[0mobj\u001b[0m \u001b[0;32min\u001b[0m \u001b[0miterable\u001b[0m\u001b[0;34m:\u001b[0m\u001b[0;34m\u001b[0m\u001b[0;34m\u001b[0m\u001b[0m\n\u001b[0m\u001b[1;32m   1006\u001b[0m                 \u001b[0;32myield\u001b[0m \u001b[0mobj\u001b[0m\u001b[0;34m\u001b[0m\u001b[0;34m\u001b[0m\u001b[0m\n\u001b[1;32m   1007\u001b[0m                 \u001b[0;31m# Update and possibly print the progressbar.\u001b[0m\u001b[0;34m\u001b[0m\u001b[0;34m\u001b[0m\u001b[0;34m\u001b[0m\u001b[0m\n",
      "\u001b[0;32m~/anaconda3/envs/u-cursos/lib/python3.7/site-packages/spacy/language.py\u001b[0m in \u001b[0;36mpipe\u001b[0;34m(self, texts, as_tuples, n_threads, batch_size, disable, cleanup)\u001b[0m\n\u001b[1;32m    570\u001b[0m         \u001b[0moriginal_strings_data\u001b[0m \u001b[0;34m=\u001b[0m \u001b[0;32mNone\u001b[0m\u001b[0;34m\u001b[0m\u001b[0;34m\u001b[0m\u001b[0m\n\u001b[1;32m    571\u001b[0m         \u001b[0mnr_seen\u001b[0m \u001b[0;34m=\u001b[0m \u001b[0;36m0\u001b[0m\u001b[0;34m\u001b[0m\u001b[0;34m\u001b[0m\u001b[0m\n\u001b[0;32m--> 572\u001b[0;31m         \u001b[0;32mfor\u001b[0m \u001b[0mdoc\u001b[0m \u001b[0;32min\u001b[0m \u001b[0mdocs\u001b[0m\u001b[0;34m:\u001b[0m\u001b[0;34m\u001b[0m\u001b[0;34m\u001b[0m\u001b[0m\n\u001b[0m\u001b[1;32m    573\u001b[0m             \u001b[0;32myield\u001b[0m \u001b[0mdoc\u001b[0m\u001b[0;34m\u001b[0m\u001b[0;34m\u001b[0m\u001b[0m\n\u001b[1;32m    574\u001b[0m             \u001b[0;32mif\u001b[0m \u001b[0mcleanup\u001b[0m\u001b[0;34m:\u001b[0m\u001b[0;34m\u001b[0m\u001b[0;34m\u001b[0m\u001b[0m\n",
      "\u001b[0;32m~/anaconda3/envs/u-cursos/lib/python3.7/site-packages/spacy/language.py\u001b[0m in \u001b[0;36m<genexpr>\u001b[0;34m(.0)\u001b[0m\n\u001b[1;32m    549\u001b[0m                 \u001b[0;32myield\u001b[0m \u001b[0;34m(\u001b[0m\u001b[0mdoc\u001b[0m\u001b[0;34m,\u001b[0m \u001b[0mcontext\u001b[0m\u001b[0;34m)\u001b[0m\u001b[0;34m\u001b[0m\u001b[0;34m\u001b[0m\u001b[0m\n\u001b[1;32m    550\u001b[0m             \u001b[0;32mreturn\u001b[0m\u001b[0;34m\u001b[0m\u001b[0;34m\u001b[0m\u001b[0m\n\u001b[0;32m--> 551\u001b[0;31m         \u001b[0mdocs\u001b[0m \u001b[0;34m=\u001b[0m \u001b[0;34m(\u001b[0m\u001b[0mself\u001b[0m\u001b[0;34m.\u001b[0m\u001b[0mmake_doc\u001b[0m\u001b[0;34m(\u001b[0m\u001b[0mtext\u001b[0m\u001b[0;34m)\u001b[0m \u001b[0;32mfor\u001b[0m \u001b[0mtext\u001b[0m \u001b[0;32min\u001b[0m \u001b[0mtexts\u001b[0m\u001b[0;34m)\u001b[0m\u001b[0;34m\u001b[0m\u001b[0;34m\u001b[0m\u001b[0m\n\u001b[0m\u001b[1;32m    552\u001b[0m         \u001b[0;32mfor\u001b[0m \u001b[0mname\u001b[0m\u001b[0;34m,\u001b[0m \u001b[0mproc\u001b[0m \u001b[0;32min\u001b[0m \u001b[0mself\u001b[0m\u001b[0;34m.\u001b[0m\u001b[0mpipeline\u001b[0m\u001b[0;34m:\u001b[0m\u001b[0;34m\u001b[0m\u001b[0;34m\u001b[0m\u001b[0m\n\u001b[1;32m    553\u001b[0m             \u001b[0;32mif\u001b[0m \u001b[0mname\u001b[0m \u001b[0;32min\u001b[0m \u001b[0mdisable\u001b[0m\u001b[0;34m:\u001b[0m\u001b[0;34m\u001b[0m\u001b[0;34m\u001b[0m\u001b[0m\n",
      "\u001b[0;32m~/anaconda3/envs/u-cursos/lib/python3.7/site-packages/spacy/language.py\u001b[0m in \u001b[0;36mmake_doc\u001b[0;34m(self, text)\u001b[0m\n\u001b[1;32m    370\u001b[0m \u001b[0;34m\u001b[0m\u001b[0m\n\u001b[1;32m    371\u001b[0m     \u001b[0;32mdef\u001b[0m \u001b[0mmake_doc\u001b[0m\u001b[0;34m(\u001b[0m\u001b[0mself\u001b[0m\u001b[0;34m,\u001b[0m \u001b[0mtext\u001b[0m\u001b[0;34m)\u001b[0m\u001b[0;34m:\u001b[0m\u001b[0;34m\u001b[0m\u001b[0;34m\u001b[0m\u001b[0m\n\u001b[0;32m--> 372\u001b[0;31m         \u001b[0;32mreturn\u001b[0m \u001b[0mself\u001b[0m\u001b[0;34m.\u001b[0m\u001b[0mtokenizer\u001b[0m\u001b[0;34m(\u001b[0m\u001b[0mtext\u001b[0m\u001b[0;34m)\u001b[0m\u001b[0;34m\u001b[0m\u001b[0;34m\u001b[0m\u001b[0m\n\u001b[0m\u001b[1;32m    373\u001b[0m \u001b[0;34m\u001b[0m\u001b[0m\n\u001b[1;32m    374\u001b[0m     \u001b[0;32mdef\u001b[0m \u001b[0mupdate\u001b[0m\u001b[0;34m(\u001b[0m\u001b[0mself\u001b[0m\u001b[0;34m,\u001b[0m \u001b[0mdocs\u001b[0m\u001b[0;34m,\u001b[0m \u001b[0mgolds\u001b[0m\u001b[0;34m,\u001b[0m \u001b[0mdrop\u001b[0m\u001b[0;34m=\u001b[0m\u001b[0;36m0.\u001b[0m\u001b[0;34m,\u001b[0m \u001b[0msgd\u001b[0m\u001b[0;34m=\u001b[0m\u001b[0;32mNone\u001b[0m\u001b[0;34m,\u001b[0m \u001b[0mlosses\u001b[0m\u001b[0;34m=\u001b[0m\u001b[0;32mNone\u001b[0m\u001b[0;34m)\u001b[0m\u001b[0;34m:\u001b[0m\u001b[0;34m\u001b[0m\u001b[0;34m\u001b[0m\u001b[0m\n",
      "\u001b[0;32mtokenizer.pyx\u001b[0m in \u001b[0;36mspacy.tokenizer.Tokenizer.__call__\u001b[0;34m()\u001b[0m\n",
      "\u001b[0;32mtokenizer.pyx\u001b[0m in \u001b[0;36mspacy.tokenizer.Tokenizer._tokenize\u001b[0;34m()\u001b[0m\n",
      "\u001b[0;32mtokenizer.pyx\u001b[0m in \u001b[0;36mspacy.tokenizer.Tokenizer._attach_tokens\u001b[0;34m()\u001b[0m\n",
      "\u001b[0;32mtokenizer.pyx\u001b[0m in \u001b[0;36mspacy.tokenizer.Tokenizer.find_infix\u001b[0;34m()\u001b[0m\n",
      "\u001b[0;31mKeyboardInterrupt\u001b[0m: "
     ]
    }
   ],
   "source": [
    "corpus = defaultdict(list)\n",
    "\n",
    "for doc_id, doc in tqdm(zip(textos['MEN_ID'], \n",
    "                            nlp.pipe(textos[\"MEN_CONTENIDO\"], disable=[\"tagger\", \"parser\", \"ner\"])),\n",
    "                        total=len(textos)):\n",
    "    for token in doc:\n",
    "        if token.is_punct:\n",
    "            continue\n",
    "        if token.is_space:\n",
    "            continue\n",
    "            \n",
    "        corpus[doc_id].append(token.lower_)"
   ]
  },
  {
   "cell_type": "code",
   "execution_count": null,
   "metadata": {},
   "outputs": [],
   "source": []
  }
 ],
 "metadata": {
  "kernelspec": {
   "display_name": "Python 3",
   "language": "python",
   "name": "python3"
  },
  "language_info": {
   "codemirror_mode": {
    "name": "ipython",
    "version": 3
   },
   "file_extension": ".py",
   "mimetype": "text/x-python",
   "name": "python",
   "nbconvert_exporter": "python",
   "pygments_lexer": "ipython3",
   "version": "3.7.3"
  }
 },
 "nbformat": 4,
 "nbformat_minor": 2
}
