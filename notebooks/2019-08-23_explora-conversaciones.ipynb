{
 "cells": [
  {
   "cell_type": "markdown",
   "metadata": {},
   "source": [
    "# Exploración de conversaciones de U-Cursos\n",
    "\n",
    "Foro institucional de ingeniería:\n",
    "\n",
    "- 1,376,786 mensajes\n",
    "- 96,667 temas (96,421 temas existentes?)\n",
    "- hay 246 temas que al parecer ya no existen\n",
    "- 11,341 usuarios\n",
    "- desde el 2002-03-11 12:16:44 al 2019-08-01 12:44:51"
   ]
  },
  {
   "cell_type": "markdown",
   "metadata": {},
   "source": [
    "### Cargar librerías"
   ]
  },
  {
   "cell_type": "code",
   "execution_count": 1,
   "metadata": {},
   "outputs": [
    {
     "name": "stdout",
     "output_type": "stream",
     "text": [
      "env: DATABASE_URL=mysql+mysqlconnector://root@localhost/ucursos\n"
     ]
    }
   ],
   "source": [
    "%load_ext sql\n",
    "%env DATABASE_URL=mysql+mysqlconnector://root@localhost/ucursos"
   ]
  },
  {
   "cell_type": "code",
   "execution_count": 170,
   "metadata": {},
   "outputs": [],
   "source": [
    "from collections import defaultdict, Counter\n",
    "\n",
    "import numpy as np\n",
    "import pandas as pd\n",
    "\n",
    "from tqdm import tqdm_notebook as tqdm\n",
    "from datetime import datetime\n",
    "\n",
    "import spacy\n",
    "import pickle\n",
    "\n",
    "from unionfind import UnionFind\n",
    "from typing import List, Set, Tuple\n",
    "\n",
    "import matplotlib.pyplot as plt\n",
    "import seaborn as sns\n",
    "sns.set(style=\"darkgrid\")\n",
    "plt.rcParams['figure.figsize'] = [15, 5]\n",
    "\n",
    "import statistics\n",
    "\n",
    "import networkx as nx\n",
    "from networkx.drawing.nx_agraph import write_dot, graphviz_layout\n",
    "\n",
    "\n",
    "from dataclasses import dataclass"
   ]
  },
  {
   "cell_type": "code",
   "execution_count": 100,
   "metadata": {},
   "outputs": [],
   "source": []
  },
  {
   "cell_type": "code",
   "execution_count": 42,
   "metadata": {},
   "outputs": [],
   "source": [
    "# para explorar una lista\n",
    "\n",
    "def summarize(l: List[int]):\n",
    "    print(\"Size:\", len(l), sep=\"\\t\")\n",
    "    print(\"Min:\", min(l), sep=\"\\t\")\n",
    "    print(\"Median:\", statistics.median(l), sep=\"\\t\")\n",
    "    print(\"Max:\", max(l), sep=\"\\t\")\n",
    "    print(\"Avg:\", sum(l) / len(l), sep=\"\\t\")\n",
    "    print(\"Mode:\", statistics.mode(l), sep=\"\\t\")"
   ]
  },
  {
   "cell_type": "markdown",
   "metadata": {},
   "source": [
    "### Mensajes en el periodo 2018-04-01 -- 2018-07-01 (11,883 mensajes)"
   ]
  },
  {
   "cell_type": "code",
   "execution_count": 54,
   "metadata": {},
   "outputs": [
    {
     "name": "stdout",
     "output_type": "stream",
     "text": [
      " * mysql+mysqlconnector://root@localhost/ucursos\n",
      "0 rows affected.\n",
      "0 rows affected.\n",
      "11883 rows affected.\n",
      "Returning data to local variable mensajes\n"
     ]
    }
   ],
   "source": [
    "%%sql mensajes <<\n",
    "\n",
    "SET @date_init = '2018-04-01';\n",
    "SET @date_end = '2018-07-01';\n",
    "\n",
    "SELECT * \n",
    "FROM MENSAJES_INGENIERIA m \n",
    "     JOIN \n",
    "     GENERO g \n",
    "        ON m.MEN_RUT = g.ID\n",
    "WHERE MEN_CENSURADO = 0\n",
    "AND DATE(MEN_FECHA_CREACION) >= @date_init \n",
    "AND DATE(MEN_FECHA_CREACION) < @date_end\n",
    ";"
   ]
  },
  {
   "cell_type": "code",
   "execution_count": 55,
   "metadata": {},
   "outputs": [],
   "source": [
    "df = mensajes.DataFrame()"
   ]
  },
  {
   "cell_type": "code",
   "execution_count": 65,
   "metadata": {},
   "outputs": [
    {
     "data": {
      "text/html": [
       "<div>\n",
       "<style scoped>\n",
       "    .dataframe tbody tr th:only-of-type {\n",
       "        vertical-align: middle;\n",
       "    }\n",
       "\n",
       "    .dataframe tbody tr th {\n",
       "        vertical-align: top;\n",
       "    }\n",
       "\n",
       "    .dataframe thead th {\n",
       "        text-align: right;\n",
       "    }\n",
       "</style>\n",
       "<table border=\"1\" class=\"dataframe\">\n",
       "  <thead>\n",
       "    <tr style=\"text-align: right;\">\n",
       "      <th></th>\n",
       "      <th>MEN_ID</th>\n",
       "      <th>MEN_TEM_ID</th>\n",
       "      <th>MEN_TEM_NOMBRE</th>\n",
       "      <th>MEN_MEN_ID</th>\n",
       "      <th>MEN_RUT</th>\n",
       "      <th>MEN_TITULO</th>\n",
       "      <th>MEN_CONTENIDO</th>\n",
       "      <th>MEN_CENSURADO</th>\n",
       "      <th>MEN_RAIZ</th>\n",
       "      <th>MEN_FECHA_CREACION</th>\n",
       "      <th>MEN_ULTIMO_MEN_ID</th>\n",
       "      <th>MEN_AUTORIDAD</th>\n",
       "      <th>MEN_FECHA_M</th>\n",
       "      <th>MEN_INSTITUCIONES</th>\n",
       "      <th>ID</th>\n",
       "      <th>GENERO</th>\n",
       "    </tr>\n",
       "  </thead>\n",
       "  <tbody>\n",
       "    <tr>\n",
       "      <th>0</th>\n",
       "      <td>2114559</td>\n",
       "      <td>36</td>\n",
       "      <td>Temas Generales</td>\n",
       "      <td>0</td>\n",
       "      <td>1</td>\n",
       "      <td>Actividades docentes del día jueves 19 de abri...</td>\n",
       "      <td>Considerando que la Escuela ha recibido una so...</td>\n",
       "      <td>0</td>\n",
       "      <td>0</td>\n",
       "      <td>2018-04-18 22:25:31</td>\n",
       "      <td>2114559</td>\n",
       "      <td>0</td>\n",
       "      <td>2018-04-19 09:34:56</td>\n",
       "      <td></td>\n",
       "      <td>1</td>\n",
       "      <td>M</td>\n",
       "    </tr>\n",
       "    <tr>\n",
       "      <th>1</th>\n",
       "      <td>2130775</td>\n",
       "      <td>36</td>\n",
       "      <td>Temas Generales</td>\n",
       "      <td>0</td>\n",
       "      <td>1</td>\n",
       "      <td>Declaración FCFM: Sobre paralización de la Fac...</td>\n",
       "      <td>Estimadas y estimados estudiantes:\\r\\n\\r\\nEn m...</td>\n",
       "      <td>0</td>\n",
       "      <td>0</td>\n",
       "      <td>2018-06-08 14:57:30</td>\n",
       "      <td>2131599</td>\n",
       "      <td>0</td>\n",
       "      <td>2018-06-11 22:59:19</td>\n",
       "      <td></td>\n",
       "      <td>1</td>\n",
       "      <td>M</td>\n",
       "    </tr>\n",
       "    <tr>\n",
       "      <th>2</th>\n",
       "      <td>2119127</td>\n",
       "      <td>36</td>\n",
       "      <td>Temas Generales</td>\n",
       "      <td>0</td>\n",
       "      <td>43</td>\n",
       "      <td>[VENDO] Iphone 6 64GB</td>\n",
       "      <td>Hola,\\r\\n\\r\\nestoy vendiendo un Iphone 6 de 64...</td>\n",
       "      <td>0</td>\n",
       "      <td>0</td>\n",
       "      <td>2018-05-03 16:24:38</td>\n",
       "      <td>2119127</td>\n",
       "      <td>0</td>\n",
       "      <td>2018-05-03 18:09:04</td>\n",
       "      <td></td>\n",
       "      <td>43</td>\n",
       "      <td>M</td>\n",
       "    </tr>\n",
       "    <tr>\n",
       "      <th>3</th>\n",
       "      <td>2120077</td>\n",
       "      <td>36</td>\n",
       "      <td>Temas Generales</td>\n",
       "      <td>0</td>\n",
       "      <td>43</td>\n",
       "      <td>Vendo IPHONE 6 de 64GB</td>\n",
       "      <td>Hola,\\r\\n\\r\\nestoy vendiendo un Iphone 6 de 64...</td>\n",
       "      <td>0</td>\n",
       "      <td>0</td>\n",
       "      <td>2018-05-07 11:13:21</td>\n",
       "      <td>2120077</td>\n",
       "      <td>0</td>\n",
       "      <td>2018-05-07 11:13:21</td>\n",
       "      <td></td>\n",
       "      <td>43</td>\n",
       "      <td>M</td>\n",
       "    </tr>\n",
       "    <tr>\n",
       "      <th>4</th>\n",
       "      <td>2136847</td>\n",
       "      <td>36</td>\n",
       "      <td>Temas Generales</td>\n",
       "      <td>2136833</td>\n",
       "      <td>83</td>\n",
       "      <td>Re (11): [+1/comente] Adiós -1</td>\n",
       "      <td>+1##@@##2078</td>\n",
       "      <td>0</td>\n",
       "      <td>2136809</td>\n",
       "      <td>2018-06-20 11:27:11</td>\n",
       "      <td>0</td>\n",
       "      <td>0</td>\n",
       "      <td>2018-06-20 11:27:11</td>\n",
       "      <td></td>\n",
       "      <td>83</td>\n",
       "      <td>M</td>\n",
       "    </tr>\n",
       "  </tbody>\n",
       "</table>\n",
       "</div>"
      ],
      "text/plain": [
       "    MEN_ID  MEN_TEM_ID   MEN_TEM_NOMBRE  MEN_MEN_ID  MEN_RUT  \\\n",
       "0  2114559          36  Temas Generales           0        1   \n",
       "1  2130775          36  Temas Generales           0        1   \n",
       "2  2119127          36  Temas Generales           0       43   \n",
       "3  2120077          36  Temas Generales           0       43   \n",
       "4  2136847          36  Temas Generales     2136833       83   \n",
       "\n",
       "                                          MEN_TITULO  \\\n",
       "0  Actividades docentes del día jueves 19 de abri...   \n",
       "1  Declaración FCFM: Sobre paralización de la Fac...   \n",
       "2                              [VENDO] Iphone 6 64GB   \n",
       "3                             Vendo IPHONE 6 de 64GB   \n",
       "4                     Re (11): [+1/comente] Adiós -1   \n",
       "\n",
       "                                       MEN_CONTENIDO  MEN_CENSURADO  MEN_RAIZ  \\\n",
       "0  Considerando que la Escuela ha recibido una so...              0         0   \n",
       "1  Estimadas y estimados estudiantes:\\r\\n\\r\\nEn m...              0         0   \n",
       "2  Hola,\\r\\n\\r\\nestoy vendiendo un Iphone 6 de 64...              0         0   \n",
       "3  Hola,\\r\\n\\r\\nestoy vendiendo un Iphone 6 de 64...              0         0   \n",
       "4                                       +1##@@##2078              0   2136809   \n",
       "\n",
       "   MEN_FECHA_CREACION  MEN_ULTIMO_MEN_ID  MEN_AUTORIDAD         MEN_FECHA_M  \\\n",
       "0 2018-04-18 22:25:31            2114559              0 2018-04-19 09:34:56   \n",
       "1 2018-06-08 14:57:30            2131599              0 2018-06-11 22:59:19   \n",
       "2 2018-05-03 16:24:38            2119127              0 2018-05-03 18:09:04   \n",
       "3 2018-05-07 11:13:21            2120077              0 2018-05-07 11:13:21   \n",
       "4 2018-06-20 11:27:11                  0              0 2018-06-20 11:27:11   \n",
       "\n",
       "  MEN_INSTITUCIONES  ID GENERO  \n",
       "0                     1      M  \n",
       "1                     1      M  \n",
       "2                    43      M  \n",
       "3                    43      M  \n",
       "4                    83      M  "
      ]
     },
     "execution_count": 65,
     "metadata": {},
     "output_type": "execute_result"
    }
   ],
   "source": [
    "df.head()"
   ]
  },
  {
   "cell_type": "code",
   "execution_count": 66,
   "metadata": {},
   "outputs": [
    {
     "name": "stdout",
     "output_type": "stream",
     "text": [
      "cantidad de temas en el periodo\n"
     ]
    },
    {
     "data": {
      "text/plain": [
       "1362"
      ]
     },
     "execution_count": 66,
     "metadata": {},
     "output_type": "execute_result"
    }
   ],
   "source": [
    "print(\"cantidad de temas en el periodo\")\n",
    "len(df.loc[df.MEN_MEN_ID == 0].index)"
   ]
  },
  {
   "cell_type": "markdown",
   "metadata": {},
   "source": [
    "###  Todos los mensajes en el dataset (1,376,437 mensajes)"
   ]
  },
  {
   "cell_type": "code",
   "execution_count": 44,
   "metadata": {},
   "outputs": [
    {
     "name": "stdout",
     "output_type": "stream",
     "text": [
      " * mysql+mysqlconnector://root@localhost/ucursos\n",
      "1376437 rows affected.\n",
      "Returning data to local variable mensajes_all\n"
     ]
    }
   ],
   "source": [
    "%%sql mensajes_all <<\n",
    "\n",
    "SELECT * \n",
    "FROM MENSAJES_INGENIERIA m JOIN GENERO g ON m.MEN_RUT = g.ID\n",
    "WHERE MEN_CENSURADO = 0;"
   ]
  },
  {
   "cell_type": "code",
   "execution_count": 45,
   "metadata": {},
   "outputs": [],
   "source": [
    "df_all = mensajes_all.DataFrame()"
   ]
  },
  {
   "cell_type": "markdown",
   "metadata": {},
   "source": [
    "### Consulta para ver un Tema"
   ]
  },
  {
   "cell_type": "code",
   "execution_count": 51,
   "metadata": {},
   "outputs": [
    {
     "name": "stdout",
     "output_type": "stream",
     "text": [
      " * mysql+mysqlconnector://root@localhost/ucursos\n",
      "0 rows affected.\n",
      "5 rows affected.\n"
     ]
    },
    {
     "data": {
      "text/html": [
       "<table>\n",
       "    <tr>\n",
       "        <th>MEN_ID</th>\n",
       "        <th>MEN_TITULO</th>\n",
       "        <th>MEN_MEN_ID</th>\n",
       "    </tr>\n",
       "    <tr>\n",
       "        <td>2154653</td>\n",
       "        <td>Calculadora cientifica</td>\n",
       "        <td>0</td>\n",
       "    </tr>\n",
       "    <tr>\n",
       "        <td>2154673</td>\n",
       "        <td>Re (1): Calculadora cientifica</td>\n",
       "        <td>2154653</td>\n",
       "    </tr>\n",
       "    <tr>\n",
       "        <td>2154675</td>\n",
       "        <td>Re (2): Calculadora cientifica</td>\n",
       "        <td>2154673</td>\n",
       "    </tr>\n",
       "    <tr>\n",
       "        <td>2154677</td>\n",
       "        <td>Re (3): Calculadora cientifica</td>\n",
       "        <td>2154675</td>\n",
       "    </tr>\n",
       "    <tr>\n",
       "        <td>2154679</td>\n",
       "        <td>Re (4): Calculadora cientifica</td>\n",
       "        <td>2154677</td>\n",
       "    </tr>\n",
       "</table>"
      ],
      "text/plain": [
       "[(2154653, 'Calculadora cientifica', 0),\n",
       " (2154673, 'Re (1): Calculadora cientifica', 2154653),\n",
       " (2154675, 'Re (2): Calculadora cientifica', 2154673),\n",
       " (2154677, 'Re (3): Calculadora cientifica', 2154675),\n",
       " (2154679, 'Re (4): Calculadora cientifica', 2154677)]"
      ]
     },
     "execution_count": 51,
     "metadata": {},
     "output_type": "execute_result"
    }
   ],
   "source": [
    "%%sql\n",
    "\n",
    "SET @msg_id = '2154653';\n",
    "\n",
    "select MEN_ID, MEN_TITULO, MEN_MEN_ID\n",
    "from MENSAJES_INGENIERIA\n",
    "where MEN_ID = @msg_id\n",
    "\n",
    "union\n",
    "\n",
    "select  MEN_ID,\n",
    "        MEN_TITULO,\n",
    "        MEN_MEN_ID\n",
    "from    (select * from MENSAJES_INGENIERIA\n",
    "         order by MEN_MEN_ID, MEN_ID) mensajes_sorted,\n",
    "        (select @pv := @msg_id) initialisation\n",
    "where   find_in_set(MEN_MEN_ID, @pv)\n",
    "and     length(@pv := concat(@pv, ',', MEN_ID))\n",
    ";\n"
   ]
  },
  {
   "cell_type": "markdown",
   "metadata": {},
   "source": [
    "### Union Find para generar temas (dataset completo)"
   ]
  },
  {
   "cell_type": "code",
   "execution_count": 48,
   "metadata": {},
   "outputs": [
    {
     "data": {
      "application/vnd.jupyter.widget-view+json": {
       "model_id": "a796b6caf52b4024b82efca847c79afe",
       "version_major": 2,
       "version_minor": 0
      },
      "text/plain": [
       "HBox(children=(IntProgress(value=0, max=1376437), HTML(value='')))"
      ]
     },
     "metadata": {},
     "output_type": "display_data"
    },
    {
     "data": {
      "application/vnd.jupyter.widget-view+json": {
       "model_id": "edd7db08d0f5492aa9269a0e081de8aa",
       "version_major": 2,
       "version_minor": 0
      },
      "text/plain": [
       "HBox(children=(IntProgress(value=0, max=1376437), HTML(value='')))"
      ]
     },
     "metadata": {},
     "output_type": "display_data"
    }
   ],
   "source": [
    "# generar temas usando union find\n",
    "# usamos todos los mensajes del dataset ya que puede haber temas iniciados\n",
    "# antes de que filtraramos el periodo de interes\n",
    "\n",
    "uf = UnionFind()\n",
    "\n",
    "for _, row in tqdm(df_all.iterrows(), total=len(df_all.index)):\n",
    "    if row.MEN_MEN_ID == 0:\n",
    "        uf.add(int(row.MEN_ID))\n",
    "        \n",
    "for _, row in tqdm(df_all.iterrows(), total=len(df_all.index)):\n",
    "    if row.MEN_MEN_ID != 0:\n",
    "        uf.union(int(row.MEN_ID), int(row.MEN_MEN_ID))"
   ]
  },
  {
   "cell_type": "code",
   "execution_count": 52,
   "metadata": {},
   "outputs": [
    {
     "name": "stdout",
     "output_type": "stream",
     "text": [
      "CPU times: user 2min 48s, sys: 3.01 s, total: 2min 51s\n",
      "Wall time: 3min 48s\n"
     ]
    }
   ],
   "source": [
    "%%time\n",
    "temas = list(uf.components())"
   ]
  },
  {
   "cell_type": "code",
   "execution_count": 53,
   "metadata": {},
   "outputs": [],
   "source": [
    "# guardar uf, temas\n",
    "\n",
    "with open('../data/python/uf.pkl', 'wb') as f:\n",
    "    pickle.dump(uf, f)\n",
    "    \n",
    "with open('../data/python/temas.list.pkl', 'wb') as f:\n",
    "    pickle.dump(temas, f)\n"
   ]
  },
  {
   "cell_type": "code",
   "execution_count": null,
   "metadata": {},
   "outputs": [],
   "source": [
    "# cargar uf, temas\n",
    "\n",
    "with open('../data/python/uf.pkl', 'rb') as f:\n",
    "    uf = pickle.load(f)\n",
    "    \n",
    "with open('../data/python/temas.list.pkl', 'rb') as f:\n",
    "    temas = pickle.load(f)"
   ]
  },
  {
   "cell_type": "code",
   "execution_count": null,
   "metadata": {},
   "outputs": [],
   "source": [
    "temas = [frozenset(tema) for tema in temas]"
   ]
  },
  {
   "cell_type": "code",
   "execution_count": 73,
   "metadata": {},
   "outputs": [
    {
     "name": "stdout",
     "output_type": "stream",
     "text": [
      "96667\n"
     ]
    }
   ],
   "source": [
    "print(len(temas))"
   ]
  },
  {
   "cell_type": "code",
   "execution_count": 74,
   "metadata": {},
   "outputs": [
    {
     "data": {
      "text/plain": [
       "frozenset({2204304, 2204408, 2204410, 2204412, 2204420, 2204476, 2204480})"
      ]
     },
     "execution_count": 74,
     "metadata": {},
     "output_type": "execute_result"
    }
   ],
   "source": [
    "temas[0]"
   ]
  },
  {
   "cell_type": "code",
   "execution_count": 60,
   "metadata": {},
   "outputs": [
    {
     "name": "stdout",
     "output_type": "stream",
     "text": [
      "Size:\t96667\n",
      "Min:\t1\n",
      "Median:\t6\n",
      "Max:\t139\n",
      "Avg:\t14.241499167244251\n",
      "Mode:\t1\n"
     ]
    }
   ],
   "source": [
    "mensajes_por_tema = [len(tema) for tema in temas]\n",
    "summarize(mensajes_por_tema)\n",
    "\n",
    "# tema con 139 mensajes: https://www.u-cursos.cl/ingenieria/2/foro_institucion/o/37888"
   ]
  },
  {
   "cell_type": "code",
   "execution_count": 71,
   "metadata": {},
   "outputs": [],
   "source": []
  },
  {
   "cell_type": "code",
   "execution_count": 67,
   "metadata": {},
   "outputs": [
    {
     "data": {
      "application/vnd.jupyter.widget-view+json": {
       "model_id": "7f7271a992c4481bb7cc8591d6db890a",
       "version_major": 2,
       "version_minor": 0
      },
      "text/plain": [
       "HBox(children=(IntProgress(value=0, max=1376437), HTML(value='')))"
      ]
     },
     "metadata": {},
     "output_type": "display_data"
    },
    {
     "data": {
      "text/plain": [
       "96421"
      ]
     },
     "execution_count": 67,
     "metadata": {},
     "output_type": "execute_result"
    }
   ],
   "source": [
    "# identificar mensajes que son la raiz de un tema\n",
    "\n",
    "raices = set()\n",
    "for _, row in tqdm(df_all.iterrows(), total=len(df_all.index)):\n",
    "    if row.MEN_MEN_ID == 0:\n",
    "        raices.add(int(row.MEN_ID))\n",
    "        \n",
    "len(raices) # al parecer hay temas sin raiz (men_men_id != 0)"
   ]
  },
  {
   "cell_type": "code",
   "execution_count": 68,
   "metadata": {},
   "outputs": [
    {
     "data": {
      "application/vnd.jupyter.widget-view+json": {
       "model_id": "c8094a97029249f6be603e34492642c2",
       "version_major": 2,
       "version_minor": 0
      },
      "text/plain": [
       "HBox(children=(IntProgress(value=0, max=96421), HTML(value='')))"
      ]
     },
     "metadata": {},
     "output_type": "display_data"
    }
   ],
   "source": [
    "# titulos[msg_id: int] => title: str\n",
    "titulos = dict()\n",
    "\n",
    "for r in tqdm(raices):\n",
    "    titulos[r] = df_all.loc[df_all.MEN_ID == r].iloc[0]['MEN_TITULO']"
   ]
  },
  {
   "cell_type": "code",
   "execution_count": 69,
   "metadata": {},
   "outputs": [],
   "source": [
    "# guardar titulos\n",
    "\n",
    "with open('../data/python/titulos.dict.pkl', 'wb') as f:\n",
    "    pickle.dump(titulos, f)"
   ]
  },
  {
   "cell_type": "code",
   "execution_count": null,
   "metadata": {},
   "outputs": [],
   "source": [
    "# cargar titulos\n",
    "\n",
    "with open('../data/python/titulos.dict.pkl', 'rb') as f:\n",
    "    titulos = pickle.load(f)"
   ]
  },
  {
   "cell_type": "code",
   "execution_count": null,
   "metadata": {},
   "outputs": [],
   "source": []
  },
  {
   "cell_type": "code",
   "execution_count": null,
   "metadata": {},
   "outputs": [],
   "source": []
  },
  {
   "cell_type": "code",
   "execution_count": 85,
   "metadata": {},
   "outputs": [
    {
     "data": {
      "application/vnd.jupyter.widget-view+json": {
       "model_id": "ee6080215aae40dfb0abf29a59ebe140",
       "version_major": 2,
       "version_minor": 0
      },
      "text/plain": [
       "HBox(children=(IntProgress(value=0, max=96667), HTML(value='')))"
      ]
     },
     "metadata": {},
     "output_type": "display_data"
    }
   ],
   "source": [
    "# tema_raiz[tema: set] => raiz: int\n",
    "# raiz_tema[raiz: int] => tema: set\n",
    "\n",
    "tema_raiz = dict()\n",
    "raiz_tema = dict()\n",
    "temas_no_raiz = []\n",
    "\n",
    "for tema in tqdm(temas):\n",
    "    raiz = False\n",
    "    for msg in tema:\n",
    "        if msg in raices:\n",
    "            if raiz:\n",
    "                print(f\"tema {tema} tiene dos raices\")\n",
    "            tema_raiz[tema] = msg\n",
    "            raiz_tema[msg] = tema\n",
    "            raiz = True\n",
    "    if not raiz:\n",
    "        temas_no_raiz.append(tema)"
   ]
  },
  {
   "cell_type": "code",
   "execution_count": 81,
   "metadata": {},
   "outputs": [
    {
     "data": {
      "text/plain": [
       "246"
      ]
     },
     "execution_count": 81,
     "metadata": {},
     "output_type": "execute_result"
    }
   ],
   "source": [
    "len(temas_no_raiz) # al parecer estos temas ya no existen"
   ]
  },
  {
   "cell_type": "code",
   "execution_count": 87,
   "metadata": {},
   "outputs": [
    {
     "data": {
      "text/plain": [
       "'Calculadora cientifica'"
      ]
     },
     "execution_count": 87,
     "metadata": {},
     "output_type": "execute_result"
    }
   ],
   "source": [
    "def get_titulo(tema):\n",
    "    raiz = tema_raiz[tema]\n",
    "    return titulos[raiz]\n",
    "        \n",
    "get_titulo(raiz_tema[2154653])\n",
    "titulos[2154653]"
   ]
  },
  {
   "cell_type": "code",
   "execution_count": null,
   "metadata": {},
   "outputs": [],
   "source": []
  },
  {
   "cell_type": "code",
   "execution_count": 163,
   "metadata": {},
   "outputs": [
    {
     "data": {
      "application/vnd.jupyter.widget-view+json": {
       "model_id": "8ff919d50ea5428aa54393d0ae34adb1",
       "version_major": 2,
       "version_minor": 0
      },
      "text/plain": [
       "HBox(children=(IntProgress(value=0, max=1376437), HTML(value='')))"
      ]
     },
     "metadata": {},
     "output_type": "display_data"
    }
   ],
   "source": [
    "# mensaje_data[msg] => (rut: int, genero: str)  asociar id de usuario y genero a los mensajes\n",
    "\n",
    "mensaje_data = dict()\n",
    "\n",
    "for _, row in tqdm(df_all.iterrows(), total=len(df_all.index)):\n",
    "    mensaje_data[row.MEN_ID] = (row.MEN_RUT, row.GENERO, row.MEN_FECHA_CREACION)"
   ]
  },
  {
   "cell_type": "code",
   "execution_count": 164,
   "metadata": {},
   "outputs": [],
   "source": [
    "with open('../data/python/mensaje_data.dict.pkl', 'wb') as f:\n",
    "    pickle.dump(mensaje_data, f)"
   ]
  },
  {
   "cell_type": "code",
   "execution_count": 165,
   "metadata": {},
   "outputs": [
    {
     "data": {
      "text/plain": [
       "(8602, 'F', Timestamp('2018-08-24 21:33:00'))"
      ]
     },
     "execution_count": 165,
     "metadata": {},
     "output_type": "execute_result"
    }
   ],
   "source": [
    "mensaje_data[2154673]  # !"
   ]
  },
  {
   "cell_type": "code",
   "execution_count": 168,
   "metadata": {},
   "outputs": [
    {
     "data": {
      "text/plain": [
       "datetime.datetime(2018, 8, 24, 21, 33)"
      ]
     },
     "execution_count": 168,
     "metadata": {},
     "output_type": "execute_result"
    }
   ],
   "source": [
    "m_ = mensaje_data[2154673]  # !\n",
    "m_[2].to_pydatetime()"
   ]
  },
  {
   "cell_type": "code",
   "execution_count": null,
   "metadata": {},
   "outputs": [],
   "source": []
  },
  {
   "cell_type": "code",
   "execution_count": 101,
   "metadata": {},
   "outputs": [
    {
     "data": {
      "application/vnd.jupyter.widget-view+json": {
       "model_id": "ac66a6bd3a934bb2b11d79e56d2e08e7",
       "version_major": 2,
       "version_minor": 0
      },
      "text/plain": [
       "HBox(children=(IntProgress(value=0, max=1376437), HTML(value='')))"
      ]
     },
     "metadata": {},
     "output_type": "display_data"
    }
   ],
   "source": [
    "# crear pares (m1, m2) donde m1 responde a m2\n",
    "# responde_a[msg_id: int] => msg_id\n",
    "responde_a = dict()\n",
    "\n",
    "for _, row in tqdm(df_all.iterrows(), total=len(df_all.index)):\n",
    "    if row.MEN_MEN_ID != 0:\n",
    "        responde_a[row.MEN_ID] = row.MEN_MEN_ID"
   ]
  },
  {
   "cell_type": "code",
   "execution_count": 102,
   "metadata": {},
   "outputs": [],
   "source": [
    "with open('../data/python/responde_a.dict.pkl', 'wb') as f:\n",
    "    pickle.dump(responde_a, f)"
   ]
  },
  {
   "cell_type": "code",
   "execution_count": 103,
   "metadata": {},
   "outputs": [
    {
     "data": {
      "application/vnd.jupyter.widget-view+json": {
       "model_id": "19f4ed38a82a4a8d95eaf54e2b17ef90",
       "version_major": 2,
       "version_minor": 0
      },
      "text/plain": [
       "HBox(children=(IntProgress(value=0, max=96667), HTML(value='')))"
      ]
     },
     "metadata": {},
     "output_type": "display_data"
    }
   ],
   "source": [
    "# conversaciones := listas de pares (m1, m2) donde m1 responde a m2\n",
    "## cada lista corresponde a un tema\n",
    "# conversaciones: List[(msg_id: int, msg_id: int)]\n",
    "conversaciones = []\n",
    "\n",
    "for tema in tqdm(temas):\n",
    "    conversaciones.append([(m, responde_a[m]) for m in tema if m in responde_a])"
   ]
  },
  {
   "cell_type": "code",
   "execution_count": 104,
   "metadata": {},
   "outputs": [],
   "source": [
    "with open('../data/python/conversaciones.list.pkl', 'wb') as f:\n",
    "    pickle.dump(conversaciones, f)"
   ]
  },
  {
   "cell_type": "code",
   "execution_count": null,
   "metadata": {},
   "outputs": [],
   "source": []
  },
  {
   "cell_type": "markdown",
   "metadata": {},
   "source": [
    "# crear estructuras"
   ]
  },
  {
   "cell_type": "code",
   "execution_count": 179,
   "metadata": {},
   "outputs": [],
   "source": [
    "Pair = Tuple[int, int]\n",
    "\n",
    "@dataclass\n",
    "class Tema:\n",
    "    raiz: int\n",
    "    titulo: str\n",
    "    mensajes: Set[int]\n",
    "    conversacion: Set[Pair]\n",
    "    fecha_creacion: datetime\n",
    "        \n",
    "    def __eq__(self, o):\n",
    "        if not isinstance(o, Tema):\n",
    "            return NotImplemented\n",
    "        return self.raiz == o.raiz\n",
    "    \n",
    "    def __len__(self):\n",
    "        return len(self.mensajes)\n",
    "    \n",
    "    def __hash__(self):\n",
    "        return self.raiz\n",
    "    \n",
    "    def __str__(self):\n",
    "        return f\"Tema(raiz={self.raiz}, titulo='{self.titulo}', mensajes={len(self.mensajes)}, conversaciones={len(self.conversacion)}, fecha_creacion='{self.fecha_creacion}')\"\n",
    "\n",
    "    def __repr__(self):\n",
    "        return self.__str__()\n",
    "    \n",
    "    \n",
    "@dataclass\n",
    "class Mensaje:\n",
    "    id_: int\n",
    "    contenido: str\n",
    "    autor: int\n",
    "    genero: str\n",
    "    es_raiz: bool\n",
    "    fecha_creacion: datetime\n",
    "    \n",
    "    def __eq__(self, o):\n",
    "        if not isinstance(o, Mensaje):\n",
    "            return NotImplemented\n",
    "        return self.id_ == o.id_\n",
    "    \n",
    "    def __hash__(self):\n",
    "        return self.id_"
   ]
  },
  {
   "cell_type": "code",
   "execution_count": 180,
   "metadata": {},
   "outputs": [
    {
     "data": {
      "application/vnd.jupyter.widget-view+json": {
       "model_id": "d9267bb87c43437ba47a2fee53847b03",
       "version_major": 2,
       "version_minor": 0
      },
      "text/plain": [
       "HBox(children=(IntProgress(value=0, max=96667), HTML(value='')))"
      ]
     },
     "metadata": {},
     "output_type": "display_data"
    }
   ],
   "source": [
    "temas_o = dict()\n",
    "\n",
    "for tema in tqdm(temas):\n",
    "    raiz = tema_raiz.get(tema)\n",
    "    if not raiz:\n",
    "        continue\n",
    "    titulo = titulos.get(raiz)\n",
    "    conversacion = [(m, responde_a[m]) for m in tema if m in responde_a]\n",
    "    fecha_creacion = mensaje_data[raiz][2].to_pydatetime()\n",
    "    temas_o[raiz] = Tema(raiz, titulo, tema, conversacion, fecha_creacion)"
   ]
  },
  {
   "cell_type": "code",
   "execution_count": 188,
   "metadata": {},
   "outputs": [
    {
     "data": {
      "text/plain": [
       "Tema(raiz=1835011, titulo='Vendo Impresora láser, WIFI, a $30.000', mensajes=1, conversaciones=0, fecha_creacion='2015-12-07 13:27:42')"
      ]
     },
     "execution_count": 188,
     "metadata": {},
     "output_type": "execute_result"
    }
   ],
   "source": [
    "temas_o[list(raices)[1]]"
   ]
  },
  {
   "cell_type": "code",
   "execution_count": 184,
   "metadata": {},
   "outputs": [
    {
     "data": {
      "application/vnd.jupyter.widget-view+json": {
       "model_id": "2a3378e1c88042669c6028f1f54ecb12",
       "version_major": 2,
       "version_minor": 0
      },
      "text/plain": [
       "HBox(children=(IntProgress(value=0, max=1376437), HTML(value='')))"
      ]
     },
     "metadata": {},
     "output_type": "display_data"
    }
   ],
   "source": [
    "mensajes_o = dict()\n",
    "\n",
    "for _, row in tqdm(df_all.iterrows(), total=len(df_all.index)):\n",
    "    id_ = row['MEN_ID']\n",
    "    cont = row['MEN_CONTENIDO']\n",
    "    autor = row['MEN_RUT']\n",
    "    gen = row['GENERO']\n",
    "    es_raiz = id_ in raices\n",
    "    fecha_creacion = row['MEN_FECHA_CREACION'].to_pydatetime()\n",
    "    \n",
    "    mensajes_o[id_] = Mensaje(id_, cont, autor, gen, es_raiz, fecha_creacion)"
   ]
  },
  {
   "cell_type": "code",
   "execution_count": 189,
   "metadata": {},
   "outputs": [
    {
     "data": {
      "text/plain": [
       "Mensaje(id_=1835011, contenido='Hola, estoy vendiendo esta impresora http://www.ripley.cl/ripley-chile/multifuncional-samsung-sl-m2020w-xbh-2000354220305p\\r\\nEsta 100% nueva, en su caja.\\r\\n\\r\\nEl precio de referencia en Ripley.cl es de $50.000\\r\\n\\r\\nLa entrega es en Beauchef 851\\r\\nCualquier duda o consulta, este es mi correo febrito@ing.uchile.cl##@@##2078', autor=955, genero='M', es_raiz=True, fecha_creacion=datetime.datetime(2015, 12, 7, 13, 27, 42))"
      ]
     },
     "execution_count": 189,
     "metadata": {},
     "output_type": "execute_result"
    }
   ],
   "source": [
    "mensajes_o[1835011]"
   ]
  },
  {
   "cell_type": "code",
   "execution_count": 182,
   "metadata": {},
   "outputs": [],
   "source": [
    "with open('../data/python/temas.obj.pkl', 'wb') as f:\n",
    "    pickle.dump(temas_o, f)"
   ]
  },
  {
   "cell_type": "code",
   "execution_count": 190,
   "metadata": {},
   "outputs": [],
   "source": [
    "with open('../data/python/mensajes.obj.pkl', 'wb') as f:\n",
    "    pickle.dump(mensajes_o, f)"
   ]
  },
  {
   "cell_type": "code",
   "execution_count": null,
   "metadata": {},
   "outputs": [],
   "source": [
    "# cargar uf\n",
    "# uf: UnionFind\n",
    "#with open('../data/python/uf.pkl', 'rb') as f:\n",
    "#    uf = pickle.load(f)\n",
    "    \n",
    "# temas: list[frozenset[int]]\n",
    "#with open('../data/python/temas.list.pkl', 'rb') as f:\n",
    "#    temas = pickle.load(f)\n",
    "#    temas = [frozenset(tema) for tema in temas]\n",
    "    \n",
    "# titulos[msg_id: int] => title: str\n",
    "#with open('../data/python/titulos.dict.pkl', 'rb') as f:\n",
    "#    titulos = pickle.load(f)\n",
    "    \n",
    "# mensaje_data[msg] => (rut: int, genero: str)  asociar id de usuario y genero a los mensajes\n",
    "#with open('../data/python/mensaje_data.dict.pkl', 'rb') as f:\n",
    "#    mensaje_data = pickle.load(f)"
   ]
  },
  {
   "cell_type": "code",
   "execution_count": 18,
   "metadata": {
    "collapsed": true
   },
   "outputs": [
    {
     "name": "stdout",
     "output_type": "stream",
     "text": [
      "(2975, [(2123265, 2123179), (2123779, 2123767), (2123267, 2123179), (2123269, 2123179), (2123785, 2123779), (2123277, 2123179), (2123279, 2123179), (2123281, 2123179), (2123283, 2123179), (2123795, 2123785), (2123797, 2123635), (2123297, 2123179), (2123809, 2123779), (2123813, 2123179), (2123311, 2123179), (2123313, 2123179), (2123319, 2123179), (2123321, 2123179), (2123323, 2123179), (2123335, 2123179), (2123349, 2123179), (2123357, 2123179), (2123361, 2123179), (2123363, 2123179), (2123367, 2123179), (2123375, 2123179), (2123889, 2123709), (2123891, 2123635), (2123379, 2123179), (2123381, 2123179), (2123385, 2123179), (2123387, 2123179), (2123901, 2123709), (2123389, 2123179), (2123907, 2123635), (2123397, 2123179), (2123399, 2123179), (2123911, 2123779), (2123403, 2123179), (2123917, 2123889), (2123415, 2123179), (2123417, 2123179), (2123419, 2123179), (2123437, 2123179), (2123439, 2123179), (2123453, 2123179), (2123973, 2123179), (2123979, 2123795), (2123989, 2123625), (2123993, 2123795), (2123995, 2123993), (2123997, 2123995), (2123489, 2123179), (2124003, 2123179), (2123507, 2123179), (2123515, 2123179), (2124031, 2123709), (2123521, 2123179), (2123525, 2123179), (2123541, 2123179), (2123549, 2123179), (2123551, 2123179), (2123581, 2123179), (2123585, 2123179), (2123593, 2123179), (2123615, 2123179), (2123621, 2123593), (2123625, 2123621), (2123627, 2123179), (2123629, 2123179), (2123635, 2123625), (2123643, 2123635), (2123645, 2123593), (2123649, 2123179), (2123653, 2123629), (2123655, 2123621), (2123673, 2123625), (2123677, 2123621), (2123685, 2123635), (2123689, 2123635), (2123695, 2123677), (2123189, 2123179), (2123193, 2123179), (2123709, 2123695), (2123711, 2123593), (2123203, 2123179), (2123205, 2123179), (2123209, 2123179), (2123213, 2123179), (2123725, 2123711), (2123215, 2123179), (2123221, 2123179), (2123225, 2123179), (2123233, 2123179), (2123235, 2123179), (2123239, 2123179), (2123753, 2123709), (2123245, 2123179), (2123767, 2123677), (2123263, 2123179)])\n"
     ]
    },
    {
     "data": {
      "text/plain": [
       "100"
      ]
     },
     "execution_count": 18,
     "metadata": {},
     "output_type": "execute_result"
    }
   ],
   "source": [
    "print(max(enumerate(conversaciones), key=lambda i: len(conversaciones[i[0]])))\n",
    "len(conversaciones[2975])"
   ]
  },
  {
   "cell_type": "code",
   "execution_count": 19,
   "metadata": {
    "collapsed": true
   },
   "outputs": [
    {
     "name": "stdout",
     "output_type": "stream",
     "text": [
      "[(2123265, 2123179), (2123779, 2123767), (2123267, 2123179), (2123269, 2123179), (2123785, 2123779), (2123277, 2123179), (2123279, 2123179), (2123281, 2123179), (2123283, 2123179), (2123795, 2123785), (2123797, 2123635), (2123297, 2123179), (2123809, 2123779), (2123813, 2123179), (2123311, 2123179), (2123313, 2123179), (2123319, 2123179), (2123321, 2123179), (2123323, 2123179), (2123335, 2123179), (2123349, 2123179), (2123357, 2123179), (2123361, 2123179), (2123363, 2123179), (2123367, 2123179), (2123375, 2123179), (2123889, 2123709), (2123891, 2123635), (2123379, 2123179), (2123381, 2123179), (2123385, 2123179), (2123387, 2123179), (2123901, 2123709), (2123389, 2123179), (2123907, 2123635), (2123397, 2123179), (2123399, 2123179), (2123911, 2123779), (2123403, 2123179), (2123917, 2123889), (2123415, 2123179), (2123417, 2123179), (2123419, 2123179), (2123437, 2123179), (2123439, 2123179), (2123453, 2123179), (2123973, 2123179), (2123979, 2123795), (2123989, 2123625), (2123993, 2123795), (2123995, 2123993), (2123997, 2123995), (2123489, 2123179), (2124003, 2123179), (2123507, 2123179), (2123515, 2123179), (2124031, 2123709), (2123521, 2123179), (2123525, 2123179), (2123541, 2123179), (2123549, 2123179), (2123551, 2123179), (2123581, 2123179), (2123585, 2123179), (2123593, 2123179), (2123615, 2123179), (2123621, 2123593), (2123625, 2123621), (2123627, 2123179), (2123629, 2123179), (2123635, 2123625), (2123643, 2123635), (2123645, 2123593), (2123649, 2123179), (2123653, 2123629), (2123655, 2123621), (2123673, 2123625), (2123677, 2123621), (2123685, 2123635), (2123689, 2123635), (2123695, 2123677), (2123189, 2123179), (2123193, 2123179), (2123709, 2123695), (2123711, 2123593), (2123203, 2123179), (2123205, 2123179), (2123209, 2123179), (2123213, 2123179), (2123725, 2123711), (2123215, 2123179), (2123221, 2123179), (2123225, 2123179), (2123233, 2123179), (2123235, 2123179), (2123239, 2123179), (2123753, 2123709), (2123245, 2123179), (2123767, 2123677), (2123263, 2123179)]\n",
      "{2123265, 2123779, 2123267, 2123269, 2123785, 2123277, 2123279, 2123281, 2123283, 2123795, 2123797, 2123297, 2123809, 2123813, 2123311, 2123313, 2123319, 2123321, 2123323, 2123335, 2123349, 2123357, 2123361, 2123363, 2123367, 2123375, 2123889, 2123891, 2123379, 2123381, 2123385, 2123387, 2123901, 2123389, 2123907, 2123397, 2123399, 2123911, 2123403, 2123917, 2123415, 2123417, 2123419, 2123437, 2123439, 2123453, 2123973, 2123979, 2123989, 2123993, 2123995, 2123997, 2123489, 2124003, 2123507, 2123515, 2124031, 2123521, 2123525, 2123541, 2123549, 2123551, 2123581, 2123585, 2123593, 2123615, 2123621, 2123625, 2123627, 2123629, 2123635, 2123643, 2123645, 2123649, 2123653, 2123655, 2123673, 2123677, 2123685, 2123689, 2123179, 2123695, 2123189, 2123193, 2123709, 2123711, 2123203, 2123205, 2123209, 2123213, 2123725, 2123215, 2123221, 2123225, 2123233, 2123235, 2123239, 2123753, 2123245, 2123767, 2123263}\n",
      "2123265 (8602, 'F')\n",
      "2123779 (6262, 'F')\n",
      "2123267 (6456, 'F')\n",
      "2123269 (7080, 'F')\n",
      "2123785 (6174, 'F')\n",
      "2123277 (10240, 'F')\n",
      "2123279 (9731, 'F')\n",
      "2123281 (760, 'F')\n",
      "2123283 (7197, 'F')\n",
      "2123795 (10246, 'M')\n",
      "2123797 (7560, 'M')\n",
      "2123297 (6415, 'M')\n",
      "2123809 (6823, 'F')\n",
      "2123813 (4794, 'M')\n",
      "2123311 (7462, 'F')\n",
      "2123313 (6827, 'F')\n",
      "2123319 (5751, 'M')\n",
      "2123321 (1885, 'M')\n",
      "2123323 (9505, 'F')\n",
      "2123335 (6698, 'M')\n",
      "2123349 (6635, 'F')\n",
      "2123357 (7858, 'F')\n",
      "2123361 (8232, 'F')\n",
      "2123363 (7955, 'F')\n",
      "2123367 (8047, 'F')\n",
      "2123375 (9520, 'F')\n",
      "2123889 (6338, 'M')\n",
      "2123891 (7019, 'M')\n",
      "2123379 (7650, 'F')\n",
      "2123381 (10242, 'F')\n",
      "2123385 (10243, 'F')\n",
      "2123387 (10228, 'M')\n",
      "2123901 (6292, 'M')\n",
      "2123389 (4241, 'F')\n",
      "2123907 (7790, 'M')\n",
      "2123397 (9650, 'F')\n",
      "2123399 (6185, 'F')\n",
      "2123911 (6543, 'F')\n",
      "2123403 (10244, 'F')\n",
      "2123917 (7869, 'M')\n",
      "2123415 (8326, 'F')\n",
      "2123417 (8326, 'F')\n",
      "2123419 (7082, 'F')\n",
      "2123437 (7788, 'M')\n",
      "2123439 (9322, 'F')\n",
      "2123453 (7617, 'F')\n",
      "2123973 (9346, 'F')\n",
      "2123979 (8135, 'M')\n",
      "2123989 (4936, 'M')\n",
      "2123993 (8504, 'M')\n",
      "2123995 (10246, 'M')\n",
      "2123997 (8504, 'M')\n",
      "2123489 (8780, 'F')\n",
      "2124003 (5229, 'M')\n",
      "2123507 (7308, 'F')\n",
      "2123515 (10229, 'F')\n",
      "2124031 (4544, 'M')\n",
      "2123521 (5485, 'M')\n",
      "2123525 (7663, 'F')\n",
      "2123541 (6628, 'F')\n",
      "2123549 (7790, 'M')\n",
      "2123551 (7963, 'F')\n",
      "2123581 (6653, 'F')\n",
      "2123585 (4752, 'M')\n",
      "2123593 (167, 'F')\n",
      "2123615 (10077, 'F')\n",
      "2123621 (4241, 'F')\n",
      "2123625 (4687, 'F')\n",
      "2123627 (6009, 'F')\n",
      "2123629 (9511, 'F')\n",
      "2123635 (6145, 'M')\n",
      "2123643 (6258, 'M')\n",
      "2123645 (167, 'F')\n",
      "2123649 (8867, 'F')\n",
      "2123653 (9581, 'M')\n",
      "2123655 (5997, 'M')\n",
      "2123673 (6667, 'F')\n",
      "2123677 (5414, 'M')\n",
      "2123685 (5681, 'M')\n",
      "2123689 (4102, 'M')\n",
      "2123179 (5410, 'F')\n",
      "raiz: 2123179\n",
      "2123695 (6698, 'M')\n",
      "2123189 (7562, 'F')\n",
      "2123193 (6633, 'F')\n",
      "2123709 (5414, 'M')\n",
      "2123711 (167, 'F')\n",
      "2123203 (8900, 'F')\n",
      "2123205 (8900, 'F')\n",
      "2123209 (6370, 'M')\n",
      "2123213 (7277, 'F')\n",
      "2123725 (10245, 'M')\n",
      "2123215 (7736, 'F')\n",
      "2123221 (6582, 'F')\n",
      "2123225 (6354, 'F')\n",
      "2123233 (6011, 'F')\n",
      "2123235 (8429, 'M')\n",
      "2123239 (6900, 'M')\n",
      "2123753 (5997, 'M')\n",
      "2123245 (8373, 'F')\n",
      "2123767 (10246, 'M')\n",
      "2123263 (7952, 'M')\n"
     ]
    }
   ],
   "source": [
    "i = 2975\n",
    "print(conversaciones[i])\n",
    "print(temas[i])\n",
    "for m in temas[i]:\n",
    "    print(m, mensaje_data[m], sep=\" \")\n",
    "    if m in raices:\n",
    "        print(\"raiz:\", m)"
   ]
  },
  {
   "cell_type": "markdown",
   "metadata": {},
   "source": [
    "# Grafos de conversaciones\n"
   ]
  },
  {
   "cell_type": "code",
   "execution_count": 20,
   "metadata": {},
   "outputs": [],
   "source": [
    "@dataclass\n",
    "class Mensaje:\n",
    "    msg_id: int\n",
    "    autor_id: int\n",
    "    genero: str\n",
    "    es_raiz: bool = False"
   ]
  },
  {
   "cell_type": "code",
   "execution_count": 35,
   "metadata": {},
   "outputs": [],
   "source": [
    "def create_conversacion_obj(conversacion):\n",
    "    conv_obj = []\n",
    "    for m1, m2 in conversacion:\n",
    "        data_m1 = mensaje_data.get(m1)\n",
    "        data_m2 = mensaje_data.get(m2)\n",
    "        msg1 = Mensaje(msg_id=m1, autor_id=data_m1[0], genero=data_m1[1], es_raiz=(m1 in raices))\n",
    "        msg2 = Mensaje(msg_id=m2, autor_id=data_m2[0], genero=data_m2[1], es_raiz=(m2 in raices))\n",
    "        conv_obj.append((msg1, msg2))\n",
    "    \n",
    "    return conv_obj"
   ]
  },
  {
   "cell_type": "code",
   "execution_count": 22,
   "metadata": {
    "collapsed": true
   },
   "outputs": [
    {
     "data": {
      "text/plain": [
       "[(Mensaje(msg_id=2123265, autor_id=8602, genero='F', es_raiz=False),\n",
       "  Mensaje(msg_id=2123179, autor_id=5410, genero='F', es_raiz=True)),\n",
       " (Mensaje(msg_id=2123779, autor_id=6262, genero='F', es_raiz=False),\n",
       "  Mensaje(msg_id=2123767, autor_id=10246, genero='M', es_raiz=False)),\n",
       " (Mensaje(msg_id=2123267, autor_id=6456, genero='F', es_raiz=False),\n",
       "  Mensaje(msg_id=2123179, autor_id=5410, genero='F', es_raiz=True)),\n",
       " (Mensaje(msg_id=2123269, autor_id=7080, genero='F', es_raiz=False),\n",
       "  Mensaje(msg_id=2123179, autor_id=5410, genero='F', es_raiz=True)),\n",
       " (Mensaje(msg_id=2123785, autor_id=6174, genero='F', es_raiz=False),\n",
       "  Mensaje(msg_id=2123779, autor_id=6262, genero='F', es_raiz=False)),\n",
       " (Mensaje(msg_id=2123277, autor_id=10240, genero='F', es_raiz=False),\n",
       "  Mensaje(msg_id=2123179, autor_id=5410, genero='F', es_raiz=True)),\n",
       " (Mensaje(msg_id=2123279, autor_id=9731, genero='F', es_raiz=False),\n",
       "  Mensaje(msg_id=2123179, autor_id=5410, genero='F', es_raiz=True)),\n",
       " (Mensaje(msg_id=2123281, autor_id=760, genero='F', es_raiz=False),\n",
       "  Mensaje(msg_id=2123179, autor_id=5410, genero='F', es_raiz=True)),\n",
       " (Mensaje(msg_id=2123283, autor_id=7197, genero='F', es_raiz=False),\n",
       "  Mensaje(msg_id=2123179, autor_id=5410, genero='F', es_raiz=True)),\n",
       " (Mensaje(msg_id=2123795, autor_id=10246, genero='M', es_raiz=False),\n",
       "  Mensaje(msg_id=2123785, autor_id=6174, genero='F', es_raiz=False)),\n",
       " (Mensaje(msg_id=2123797, autor_id=7560, genero='M', es_raiz=False),\n",
       "  Mensaje(msg_id=2123635, autor_id=6145, genero='M', es_raiz=False)),\n",
       " (Mensaje(msg_id=2123297, autor_id=6415, genero='M', es_raiz=False),\n",
       "  Mensaje(msg_id=2123179, autor_id=5410, genero='F', es_raiz=True)),\n",
       " (Mensaje(msg_id=2123809, autor_id=6823, genero='F', es_raiz=False),\n",
       "  Mensaje(msg_id=2123779, autor_id=6262, genero='F', es_raiz=False)),\n",
       " (Mensaje(msg_id=2123813, autor_id=4794, genero='M', es_raiz=False),\n",
       "  Mensaje(msg_id=2123179, autor_id=5410, genero='F', es_raiz=True)),\n",
       " (Mensaje(msg_id=2123311, autor_id=7462, genero='F', es_raiz=False),\n",
       "  Mensaje(msg_id=2123179, autor_id=5410, genero='F', es_raiz=True)),\n",
       " (Mensaje(msg_id=2123313, autor_id=6827, genero='F', es_raiz=False),\n",
       "  Mensaje(msg_id=2123179, autor_id=5410, genero='F', es_raiz=True)),\n",
       " (Mensaje(msg_id=2123319, autor_id=5751, genero='M', es_raiz=False),\n",
       "  Mensaje(msg_id=2123179, autor_id=5410, genero='F', es_raiz=True)),\n",
       " (Mensaje(msg_id=2123321, autor_id=1885, genero='M', es_raiz=False),\n",
       "  Mensaje(msg_id=2123179, autor_id=5410, genero='F', es_raiz=True)),\n",
       " (Mensaje(msg_id=2123323, autor_id=9505, genero='F', es_raiz=False),\n",
       "  Mensaje(msg_id=2123179, autor_id=5410, genero='F', es_raiz=True)),\n",
       " (Mensaje(msg_id=2123335, autor_id=6698, genero='M', es_raiz=False),\n",
       "  Mensaje(msg_id=2123179, autor_id=5410, genero='F', es_raiz=True)),\n",
       " (Mensaje(msg_id=2123349, autor_id=6635, genero='F', es_raiz=False),\n",
       "  Mensaje(msg_id=2123179, autor_id=5410, genero='F', es_raiz=True)),\n",
       " (Mensaje(msg_id=2123357, autor_id=7858, genero='F', es_raiz=False),\n",
       "  Mensaje(msg_id=2123179, autor_id=5410, genero='F', es_raiz=True)),\n",
       " (Mensaje(msg_id=2123361, autor_id=8232, genero='F', es_raiz=False),\n",
       "  Mensaje(msg_id=2123179, autor_id=5410, genero='F', es_raiz=True)),\n",
       " (Mensaje(msg_id=2123363, autor_id=7955, genero='F', es_raiz=False),\n",
       "  Mensaje(msg_id=2123179, autor_id=5410, genero='F', es_raiz=True)),\n",
       " (Mensaje(msg_id=2123367, autor_id=8047, genero='F', es_raiz=False),\n",
       "  Mensaje(msg_id=2123179, autor_id=5410, genero='F', es_raiz=True)),\n",
       " (Mensaje(msg_id=2123375, autor_id=9520, genero='F', es_raiz=False),\n",
       "  Mensaje(msg_id=2123179, autor_id=5410, genero='F', es_raiz=True)),\n",
       " (Mensaje(msg_id=2123889, autor_id=6338, genero='M', es_raiz=False),\n",
       "  Mensaje(msg_id=2123709, autor_id=5414, genero='M', es_raiz=False)),\n",
       " (Mensaje(msg_id=2123891, autor_id=7019, genero='M', es_raiz=False),\n",
       "  Mensaje(msg_id=2123635, autor_id=6145, genero='M', es_raiz=False)),\n",
       " (Mensaje(msg_id=2123379, autor_id=7650, genero='F', es_raiz=False),\n",
       "  Mensaje(msg_id=2123179, autor_id=5410, genero='F', es_raiz=True)),\n",
       " (Mensaje(msg_id=2123381, autor_id=10242, genero='F', es_raiz=False),\n",
       "  Mensaje(msg_id=2123179, autor_id=5410, genero='F', es_raiz=True)),\n",
       " (Mensaje(msg_id=2123385, autor_id=10243, genero='F', es_raiz=False),\n",
       "  Mensaje(msg_id=2123179, autor_id=5410, genero='F', es_raiz=True)),\n",
       " (Mensaje(msg_id=2123387, autor_id=10228, genero='M', es_raiz=False),\n",
       "  Mensaje(msg_id=2123179, autor_id=5410, genero='F', es_raiz=True)),\n",
       " (Mensaje(msg_id=2123901, autor_id=6292, genero='M', es_raiz=False),\n",
       "  Mensaje(msg_id=2123709, autor_id=5414, genero='M', es_raiz=False)),\n",
       " (Mensaje(msg_id=2123389, autor_id=4241, genero='F', es_raiz=False),\n",
       "  Mensaje(msg_id=2123179, autor_id=5410, genero='F', es_raiz=True)),\n",
       " (Mensaje(msg_id=2123907, autor_id=7790, genero='M', es_raiz=False),\n",
       "  Mensaje(msg_id=2123635, autor_id=6145, genero='M', es_raiz=False)),\n",
       " (Mensaje(msg_id=2123397, autor_id=9650, genero='F', es_raiz=False),\n",
       "  Mensaje(msg_id=2123179, autor_id=5410, genero='F', es_raiz=True)),\n",
       " (Mensaje(msg_id=2123399, autor_id=6185, genero='F', es_raiz=False),\n",
       "  Mensaje(msg_id=2123179, autor_id=5410, genero='F', es_raiz=True)),\n",
       " (Mensaje(msg_id=2123911, autor_id=6543, genero='F', es_raiz=False),\n",
       "  Mensaje(msg_id=2123779, autor_id=6262, genero='F', es_raiz=False)),\n",
       " (Mensaje(msg_id=2123403, autor_id=10244, genero='F', es_raiz=False),\n",
       "  Mensaje(msg_id=2123179, autor_id=5410, genero='F', es_raiz=True)),\n",
       " (Mensaje(msg_id=2123917, autor_id=7869, genero='M', es_raiz=False),\n",
       "  Mensaje(msg_id=2123889, autor_id=6338, genero='M', es_raiz=False)),\n",
       " (Mensaje(msg_id=2123415, autor_id=8326, genero='F', es_raiz=False),\n",
       "  Mensaje(msg_id=2123179, autor_id=5410, genero='F', es_raiz=True)),\n",
       " (Mensaje(msg_id=2123417, autor_id=8326, genero='F', es_raiz=False),\n",
       "  Mensaje(msg_id=2123179, autor_id=5410, genero='F', es_raiz=True)),\n",
       " (Mensaje(msg_id=2123419, autor_id=7082, genero='F', es_raiz=False),\n",
       "  Mensaje(msg_id=2123179, autor_id=5410, genero='F', es_raiz=True)),\n",
       " (Mensaje(msg_id=2123437, autor_id=7788, genero='M', es_raiz=False),\n",
       "  Mensaje(msg_id=2123179, autor_id=5410, genero='F', es_raiz=True)),\n",
       " (Mensaje(msg_id=2123439, autor_id=9322, genero='F', es_raiz=False),\n",
       "  Mensaje(msg_id=2123179, autor_id=5410, genero='F', es_raiz=True)),\n",
       " (Mensaje(msg_id=2123453, autor_id=7617, genero='F', es_raiz=False),\n",
       "  Mensaje(msg_id=2123179, autor_id=5410, genero='F', es_raiz=True)),\n",
       " (Mensaje(msg_id=2123973, autor_id=9346, genero='F', es_raiz=False),\n",
       "  Mensaje(msg_id=2123179, autor_id=5410, genero='F', es_raiz=True)),\n",
       " (Mensaje(msg_id=2123979, autor_id=8135, genero='M', es_raiz=False),\n",
       "  Mensaje(msg_id=2123795, autor_id=10246, genero='M', es_raiz=False)),\n",
       " (Mensaje(msg_id=2123989, autor_id=4936, genero='M', es_raiz=False),\n",
       "  Mensaje(msg_id=2123625, autor_id=4687, genero='F', es_raiz=False)),\n",
       " (Mensaje(msg_id=2123993, autor_id=8504, genero='M', es_raiz=False),\n",
       "  Mensaje(msg_id=2123795, autor_id=10246, genero='M', es_raiz=False)),\n",
       " (Mensaje(msg_id=2123995, autor_id=10246, genero='M', es_raiz=False),\n",
       "  Mensaje(msg_id=2123993, autor_id=8504, genero='M', es_raiz=False)),\n",
       " (Mensaje(msg_id=2123997, autor_id=8504, genero='M', es_raiz=False),\n",
       "  Mensaje(msg_id=2123995, autor_id=10246, genero='M', es_raiz=False)),\n",
       " (Mensaje(msg_id=2123489, autor_id=8780, genero='F', es_raiz=False),\n",
       "  Mensaje(msg_id=2123179, autor_id=5410, genero='F', es_raiz=True)),\n",
       " (Mensaje(msg_id=2124003, autor_id=5229, genero='M', es_raiz=False),\n",
       "  Mensaje(msg_id=2123179, autor_id=5410, genero='F', es_raiz=True)),\n",
       " (Mensaje(msg_id=2123507, autor_id=7308, genero='F', es_raiz=False),\n",
       "  Mensaje(msg_id=2123179, autor_id=5410, genero='F', es_raiz=True)),\n",
       " (Mensaje(msg_id=2123515, autor_id=10229, genero='F', es_raiz=False),\n",
       "  Mensaje(msg_id=2123179, autor_id=5410, genero='F', es_raiz=True)),\n",
       " (Mensaje(msg_id=2124031, autor_id=4544, genero='M', es_raiz=False),\n",
       "  Mensaje(msg_id=2123709, autor_id=5414, genero='M', es_raiz=False)),\n",
       " (Mensaje(msg_id=2123521, autor_id=5485, genero='M', es_raiz=False),\n",
       "  Mensaje(msg_id=2123179, autor_id=5410, genero='F', es_raiz=True)),\n",
       " (Mensaje(msg_id=2123525, autor_id=7663, genero='F', es_raiz=False),\n",
       "  Mensaje(msg_id=2123179, autor_id=5410, genero='F', es_raiz=True)),\n",
       " (Mensaje(msg_id=2123541, autor_id=6628, genero='F', es_raiz=False),\n",
       "  Mensaje(msg_id=2123179, autor_id=5410, genero='F', es_raiz=True)),\n",
       " (Mensaje(msg_id=2123549, autor_id=7790, genero='M', es_raiz=False),\n",
       "  Mensaje(msg_id=2123179, autor_id=5410, genero='F', es_raiz=True)),\n",
       " (Mensaje(msg_id=2123551, autor_id=7963, genero='F', es_raiz=False),\n",
       "  Mensaje(msg_id=2123179, autor_id=5410, genero='F', es_raiz=True)),\n",
       " (Mensaje(msg_id=2123581, autor_id=6653, genero='F', es_raiz=False),\n",
       "  Mensaje(msg_id=2123179, autor_id=5410, genero='F', es_raiz=True)),\n",
       " (Mensaje(msg_id=2123585, autor_id=4752, genero='M', es_raiz=False),\n",
       "  Mensaje(msg_id=2123179, autor_id=5410, genero='F', es_raiz=True)),\n",
       " (Mensaje(msg_id=2123593, autor_id=167, genero='F', es_raiz=False),\n",
       "  Mensaje(msg_id=2123179, autor_id=5410, genero='F', es_raiz=True)),\n",
       " (Mensaje(msg_id=2123615, autor_id=10077, genero='F', es_raiz=False),\n",
       "  Mensaje(msg_id=2123179, autor_id=5410, genero='F', es_raiz=True)),\n",
       " (Mensaje(msg_id=2123621, autor_id=4241, genero='F', es_raiz=False),\n",
       "  Mensaje(msg_id=2123593, autor_id=167, genero='F', es_raiz=False)),\n",
       " (Mensaje(msg_id=2123625, autor_id=4687, genero='F', es_raiz=False),\n",
       "  Mensaje(msg_id=2123621, autor_id=4241, genero='F', es_raiz=False)),\n",
       " (Mensaje(msg_id=2123627, autor_id=6009, genero='F', es_raiz=False),\n",
       "  Mensaje(msg_id=2123179, autor_id=5410, genero='F', es_raiz=True)),\n",
       " (Mensaje(msg_id=2123629, autor_id=9511, genero='F', es_raiz=False),\n",
       "  Mensaje(msg_id=2123179, autor_id=5410, genero='F', es_raiz=True)),\n",
       " (Mensaje(msg_id=2123635, autor_id=6145, genero='M', es_raiz=False),\n",
       "  Mensaje(msg_id=2123625, autor_id=4687, genero='F', es_raiz=False)),\n",
       " (Mensaje(msg_id=2123643, autor_id=6258, genero='M', es_raiz=False),\n",
       "  Mensaje(msg_id=2123635, autor_id=6145, genero='M', es_raiz=False)),\n",
       " (Mensaje(msg_id=2123645, autor_id=167, genero='F', es_raiz=False),\n",
       "  Mensaje(msg_id=2123593, autor_id=167, genero='F', es_raiz=False)),\n",
       " (Mensaje(msg_id=2123649, autor_id=8867, genero='F', es_raiz=False),\n",
       "  Mensaje(msg_id=2123179, autor_id=5410, genero='F', es_raiz=True)),\n",
       " (Mensaje(msg_id=2123653, autor_id=9581, genero='M', es_raiz=False),\n",
       "  Mensaje(msg_id=2123629, autor_id=9511, genero='F', es_raiz=False)),\n",
       " (Mensaje(msg_id=2123655, autor_id=5997, genero='M', es_raiz=False),\n",
       "  Mensaje(msg_id=2123621, autor_id=4241, genero='F', es_raiz=False)),\n",
       " (Mensaje(msg_id=2123673, autor_id=6667, genero='F', es_raiz=False),\n",
       "  Mensaje(msg_id=2123625, autor_id=4687, genero='F', es_raiz=False)),\n",
       " (Mensaje(msg_id=2123677, autor_id=5414, genero='M', es_raiz=False),\n",
       "  Mensaje(msg_id=2123621, autor_id=4241, genero='F', es_raiz=False)),\n",
       " (Mensaje(msg_id=2123685, autor_id=5681, genero='M', es_raiz=False),\n",
       "  Mensaje(msg_id=2123635, autor_id=6145, genero='M', es_raiz=False)),\n",
       " (Mensaje(msg_id=2123689, autor_id=4102, genero='M', es_raiz=False),\n",
       "  Mensaje(msg_id=2123635, autor_id=6145, genero='M', es_raiz=False)),\n",
       " (Mensaje(msg_id=2123695, autor_id=6698, genero='M', es_raiz=False),\n",
       "  Mensaje(msg_id=2123677, autor_id=5414, genero='M', es_raiz=False)),\n",
       " (Mensaje(msg_id=2123189, autor_id=7562, genero='F', es_raiz=False),\n",
       "  Mensaje(msg_id=2123179, autor_id=5410, genero='F', es_raiz=True)),\n",
       " (Mensaje(msg_id=2123193, autor_id=6633, genero='F', es_raiz=False),\n",
       "  Mensaje(msg_id=2123179, autor_id=5410, genero='F', es_raiz=True)),\n",
       " (Mensaje(msg_id=2123709, autor_id=5414, genero='M', es_raiz=False),\n",
       "  Mensaje(msg_id=2123695, autor_id=6698, genero='M', es_raiz=False)),\n",
       " (Mensaje(msg_id=2123711, autor_id=167, genero='F', es_raiz=False),\n",
       "  Mensaje(msg_id=2123593, autor_id=167, genero='F', es_raiz=False)),\n",
       " (Mensaje(msg_id=2123203, autor_id=8900, genero='F', es_raiz=False),\n",
       "  Mensaje(msg_id=2123179, autor_id=5410, genero='F', es_raiz=True)),\n",
       " (Mensaje(msg_id=2123205, autor_id=8900, genero='F', es_raiz=False),\n",
       "  Mensaje(msg_id=2123179, autor_id=5410, genero='F', es_raiz=True)),\n",
       " (Mensaje(msg_id=2123209, autor_id=6370, genero='M', es_raiz=False),\n",
       "  Mensaje(msg_id=2123179, autor_id=5410, genero='F', es_raiz=True)),\n",
       " (Mensaje(msg_id=2123213, autor_id=7277, genero='F', es_raiz=False),\n",
       "  Mensaje(msg_id=2123179, autor_id=5410, genero='F', es_raiz=True)),\n",
       " (Mensaje(msg_id=2123725, autor_id=10245, genero='M', es_raiz=False),\n",
       "  Mensaje(msg_id=2123711, autor_id=167, genero='F', es_raiz=False)),\n",
       " (Mensaje(msg_id=2123215, autor_id=7736, genero='F', es_raiz=False),\n",
       "  Mensaje(msg_id=2123179, autor_id=5410, genero='F', es_raiz=True)),\n",
       " (Mensaje(msg_id=2123221, autor_id=6582, genero='F', es_raiz=False),\n",
       "  Mensaje(msg_id=2123179, autor_id=5410, genero='F', es_raiz=True)),\n",
       " (Mensaje(msg_id=2123225, autor_id=6354, genero='F', es_raiz=False),\n",
       "  Mensaje(msg_id=2123179, autor_id=5410, genero='F', es_raiz=True)),\n",
       " (Mensaje(msg_id=2123233, autor_id=6011, genero='F', es_raiz=False),\n",
       "  Mensaje(msg_id=2123179, autor_id=5410, genero='F', es_raiz=True)),\n",
       " (Mensaje(msg_id=2123235, autor_id=8429, genero='M', es_raiz=False),\n",
       "  Mensaje(msg_id=2123179, autor_id=5410, genero='F', es_raiz=True)),\n",
       " (Mensaje(msg_id=2123239, autor_id=6900, genero='M', es_raiz=False),\n",
       "  Mensaje(msg_id=2123179, autor_id=5410, genero='F', es_raiz=True)),\n",
       " (Mensaje(msg_id=2123753, autor_id=5997, genero='M', es_raiz=False),\n",
       "  Mensaje(msg_id=2123709, autor_id=5414, genero='M', es_raiz=False)),\n",
       " (Mensaje(msg_id=2123245, autor_id=8373, genero='F', es_raiz=False),\n",
       "  Mensaje(msg_id=2123179, autor_id=5410, genero='F', es_raiz=True)),\n",
       " (Mensaje(msg_id=2123767, autor_id=10246, genero='M', es_raiz=False),\n",
       "  Mensaje(msg_id=2123677, autor_id=5414, genero='M', es_raiz=False)),\n",
       " (Mensaje(msg_id=2123263, autor_id=7952, genero='M', es_raiz=False),\n",
       "  Mensaje(msg_id=2123179, autor_id=5410, genero='F', es_raiz=True))]"
      ]
     },
     "execution_count": 22,
     "metadata": {},
     "output_type": "execute_result"
    }
   ],
   "source": [
    "co = create_conversacion_obj(conversaciones[i])\n",
    "co"
   ]
  },
  {
   "cell_type": "code",
   "execution_count": 23,
   "metadata": {},
   "outputs": [],
   "source": [
    "G = nx.DiGraph()\n",
    "\n",
    "for m1, m2 in co:\n",
    "    G.add_node(m1.msg_id, **vars(m1))\n",
    "    G.add_node(m2.msg_id, **vars(m2))\n",
    "    G.add_edge(m1.msg_id, m2.msg_id)\n",
    "\n",
    "node_colors = ['green' if G.node[node_id]['genero'] == 'M' else 'orange' for node_id in G.nodes()]    "
   ]
  },
  {
   "cell_type": "code",
   "execution_count": 24,
   "metadata": {
    "scrolled": false
   },
   "outputs": [
    {
     "name": "stderr",
     "output_type": "stream",
     "text": [
      "/Users/mquezada/anaconda3/envs/u-cursos/lib/python3.7/site-packages/networkx/drawing/nx_pylab.py:579: MatplotlibDeprecationWarning: \n",
      "The iterable function was deprecated in Matplotlib 3.1 and will be removed in 3.3. Use np.iterable instead.\n",
      "  if not cb.iterable(width):\n",
      "/Users/mquezada/anaconda3/envs/u-cursos/lib/python3.7/site-packages/networkx/drawing/nx_pylab.py:676: MatplotlibDeprecationWarning: \n",
      "The iterable function was deprecated in Matplotlib 3.1 and will be removed in 3.3. Use np.iterable instead.\n",
      "  if cb.iterable(node_size):  # many node sizes\n"
     ]
    },
    {
     "data": {
      "image/png": "[encoded data removed]",
      "text/plain": [
       "<Figure size 1080x1080 with 1 Axes>"
      ]
     },
     "metadata": {},
     "output_type": "display_data"
    }
   ],
   "source": [
    "plt.rcParams['figure.figsize'] = [15, 15]\n",
    "plt.title(get_titulo(temas[i]))\n",
    "pos = graphviz_layout(G, prog='twopi')\n",
    "nx.draw(G, pos, node_color=node_colors, with_labels=False, arrows=True, font_weight='bold')"
   ]
  },
  {
   "cell_type": "markdown",
   "metadata": {},
   "source": [
    "### Distribución de temas con % de participación de mujeres (cuidado con normalización por cantidad de mensajes en el thread)"
   ]
  },
  {
   "cell_type": "code",
   "execution_count": 27,
   "metadata": {},
   "outputs": [
    {
     "name": "stdout",
     "output_type": "stream",
     "text": [
      "CPU times: user 289 ms, sys: 17.8 ms, total: 307 ms\n",
      "Wall time: 310 ms\n"
     ]
    }
   ],
   "source": [
    "%%time\n",
    "conv_objs = [create_conversacion_obj(c) for c in conversaciones]"
   ]
  },
  {
   "cell_type": "code",
   "execution_count": 40,
   "metadata": {},
   "outputs": [],
   "source": [
    "def get_generos(tema):\n",
    "    for msg in tema:\n",
    "        _, genero = mensaje_data.get(msg, (None, None))\n",
    "        if genero:\n",
    "            yield genero"
   ]
  },
  {
   "cell_type": "code",
   "execution_count": 41,
   "metadata": {},
   "outputs": [],
   "source": [
    "genero_temas = []\n",
    "for tema in temas:\n",
    "    generos_temas.append(list(get_generos(tema)))"
   ]
  },
  {
   "cell_type": "code",
   "execution_count": null,
   "metadata": {},
   "outputs": [],
   "source": []
  }
 ],
 "metadata": {
  "kernelspec": {
   "display_name": "Python 3",
   "language": "python",
   "name": "python3"
  },
  "language_info": {
   "codemirror_mode": {
    "name": "ipython",
    "version": 3
   },
   "file_extension": ".py",
   "mimetype": "text/x-python",
   "name": "python",
   "nbconvert_exporter": "python",
   "pygments_lexer": "ipython3",
   "version": "3.7.3"
  }
 },
 "nbformat": 4,
 "nbformat_minor": 2
}
